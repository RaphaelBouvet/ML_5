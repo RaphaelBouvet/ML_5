{
 "cells": [
  {
   "cell_type": "markdown",
   "id": "32d2c019-1ef2-4513-8fe1-1afa3b112bab",
   "metadata": {},
   "source": [
    "# Imports"
   ]
  },
  {
   "cell_type": "markdown",
   "id": "996be0e6-79ab-417d-8824-a99fe6608e8a",
   "metadata": {},
   "source": [
    "## Import gen"
   ]
  },
  {
   "cell_type": "code",
   "execution_count": 6,
   "id": "add0f518-6566-4dfe-a127-dbbd71773e74",
   "metadata": {},
   "outputs": [
    {
     "name": "stderr",
     "output_type": "stream",
     "text": [
      "2022-06-16 21:52:59.478560: I tensorflow/stream_executor/platform/default/dso_loader.cc:49] Successfully opened dynamic library libcudart.so.10.1\n"
     ]
    }
   ],
   "source": [
    "import pandas as pd\n",
    "import os,sys\n",
    "import pickle\n",
    "import numpy as np\n",
    "import keras\n",
    "import tensorflow as tf\n",
    "import matplotlib.pyplot as plt\n",
    "import keras_tuner as kt\n",
    "from IPython.display import clear_output"
   ]
  },
  {
   "cell_type": "markdown",
   "id": "624458c1-7486-415e-b36b-3878411ddd71",
   "metadata": {},
   "source": [
    "## Import sklearn"
   ]
  },
  {
   "cell_type": "code",
   "execution_count": 4,
   "id": "bc134bb4-1017-48e6-84a1-70b020dcfbbd",
   "metadata": {},
   "outputs": [],
   "source": [
    "from sklearn.model_selection import train_test_split\n",
    "from sklearn.metrics import accuracy_score\n",
    "from sklearn.preprocessing import StandardScaler,OneHotEncoder\n",
    "from sklearn.datasets import fetch_openml"
   ]
  },
  {
   "cell_type": "markdown",
   "id": "fdf1baff-9860-4a2d-8d8e-a91db10f5d44",
   "metadata": {},
   "source": [
    "## Import Keras"
   ]
  },
  {
   "cell_type": "code",
   "execution_count": 5,
   "id": "181d96fe-48ef-4c4d-a2cd-457e8832a7ab",
   "metadata": {},
   "outputs": [],
   "source": [
    "from keras.utils.vis_utils import plot_model"
   ]
  },
  {
   "cell_type": "code",
   "execution_count": 6,
   "id": "4e7f3641-2af5-49e6-9f42-e26f1e681111",
   "metadata": {},
   "outputs": [],
   "source": [
    "from keras.datasets import fashion_mnist\n",
    "from keras.utils import to_categorical"
   ]
  },
  {
   "cell_type": "code",
   "execution_count": 7,
   "id": "2c7096a5-a218-4df1-a3a7-6f8dd63f2067",
   "metadata": {},
   "outputs": [],
   "source": [
    "from keras.models import Sequential\n",
    "from keras.layers import Dense,Conv2D,MaxPool2D,Flatten,SpatialDropout2D,Dropout\n",
    "from keras.preprocessing.image import ImageDataGenerator"
   ]
  },
  {
   "cell_type": "code",
   "execution_count": 32,
   "id": "041ad7d4-ec2b-41f8-a1f8-560e75b466c2",
   "metadata": {},
   "outputs": [],
   "source": [
    "from keras.callbacks import TensorBoard"
   ]
  },
  {
   "cell_type": "markdown",
   "id": "47736d2c-067b-44c6-ab27-a0087269ddaa",
   "metadata": {},
   "source": [
    "## Import data"
   ]
  },
  {
   "cell_type": "code",
   "execution_count": 8,
   "id": "900c9738-6e84-4ad6-a1be-4b314b4993fb",
   "metadata": {},
   "outputs": [],
   "source": [
    "## save data as pkl"
   ]
  },
  {
   "cell_type": "code",
   "execution_count": null,
   "id": "63d7ab24-1f53-4bc9-90b4-e8761aa5f5a3",
   "metadata": {},
   "outputs": [],
   "source": [
    "x_test,y_test = "
   ]
  }
 ],
 "metadata": {
  "kernelspec": {
   "display_name": "Python [conda env:ML_5]",
   "language": "python",
   "name": "conda-env-ML_5-py"
  },
  "language_info": {
   "codemirror_mode": {
    "name": "ipython",
    "version": 3
   },
   "file_extension": ".py",
   "mimetype": "text/x-python",
   "name": "python",
   "nbconvert_exporter": "python",
   "pygments_lexer": "ipython3",
   "version": "3.9.12"
  }
 },
 "nbformat": 4,
 "nbformat_minor": 5
}
