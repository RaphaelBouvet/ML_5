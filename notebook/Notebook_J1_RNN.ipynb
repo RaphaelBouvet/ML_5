{
 "cells": [
  {
   "cell_type": "markdown",
   "id": "afeb0612-f56f-4685-845f-7935bd9846de",
   "metadata": {},
   "source": [
    "# Imports"
   ]
  },
  {
   "cell_type": "markdown",
   "id": "16c71f49-5df6-4b51-89b2-def32c7299cf",
   "metadata": {},
   "source": [
    "## Import gen lib"
   ]
  },
  {
   "cell_type": "code",
   "execution_count": 1,
   "id": "77d9f8db-75c8-40a8-accc-0c72ca957e0a",
   "metadata": {},
   "outputs": [
    {
     "name": "stderr",
     "output_type": "stream",
     "text": [
      "2022-06-16 08:58:18.731950: I tensorflow/stream_executor/platform/default/dso_loader.cc:49] Successfully opened dynamic library libcudart.so.10.1\n"
     ]
    }
   ],
   "source": [
    "import pandas as pd\n",
    "import numpy as np\n",
    "import keras\n",
    "import tensorflow\n",
    "import matplotlib.pyplot as plt\n",
    "import keras_tuner as kt"
   ]
  },
  {
   "cell_type": "markdown",
   "id": "c8bd8400-e25a-4a81-98f9-5146e85b0bb6",
   "metadata": {
    "tags": []
   },
   "source": [
    "## imports sklearn"
   ]
  },
  {
   "cell_type": "code",
   "execution_count": 2,
   "id": "3602bc61-4971-468a-84cb-796c178011bb",
   "metadata": {},
   "outputs": [],
   "source": [
    "from sklearn.model_selection import train_test_split\n",
    "from sklearn.metrics import accuracy_score\n",
    "from sklearn.preprocessing import StandardScaler"
   ]
  },
  {
   "cell_type": "markdown",
   "id": "6a4cbcc7-f490-4099-9e28-1d9052994099",
   "metadata": {},
   "source": [
    "## imports keras"
   ]
  },
  {
   "cell_type": "code",
   "execution_count": 3,
   "id": "465b7224-fb43-4575-9b10-b1bb9320cdf0",
   "metadata": {},
   "outputs": [],
   "source": [
    "from keras.models import Sequential\n",
    "from keras.layers import Dense"
   ]
  },
  {
   "cell_type": "markdown",
   "id": "ae3d0758-f041-420f-91ce-c89fa4ff0a93",
   "metadata": {},
   "source": [
    "## Import data"
   ]
  },
  {
   "cell_type": "code",
   "execution_count": 4,
   "id": "7a20f91a-cba9-4d1e-be19-12b73bf088fe",
   "metadata": {},
   "outputs": [],
   "source": [
    "path_dataset = '../data/housepricedata.csv'"
   ]
  },
  {
   "cell_type": "code",
   "execution_count": 5,
   "id": "b417cde4-c4f1-40a5-aa80-ebc5eb8c499c",
   "metadata": {},
   "outputs": [],
   "source": [
    "df = pd.read_csv(path_dataset)"
   ]
  },
  {
   "cell_type": "code",
   "execution_count": 6,
   "id": "5d247416-49b2-462b-a732-a8c81b3774ff",
   "metadata": {},
   "outputs": [
    {
     "data": {
      "text/html": [
       "<div>\n",
       "<style scoped>\n",
       "    .dataframe tbody tr th:only-of-type {\n",
       "        vertical-align: middle;\n",
       "    }\n",
       "\n",
       "    .dataframe tbody tr th {\n",
       "        vertical-align: top;\n",
       "    }\n",
       "\n",
       "    .dataframe thead th {\n",
       "        text-align: right;\n",
       "    }\n",
       "</style>\n",
       "<table border=\"1\" class=\"dataframe\">\n",
       "  <thead>\n",
       "    <tr style=\"text-align: right;\">\n",
       "      <th></th>\n",
       "      <th>LotArea</th>\n",
       "      <th>OverallQual</th>\n",
       "      <th>OverallCond</th>\n",
       "      <th>TotalBsmtSF</th>\n",
       "      <th>FullBath</th>\n",
       "      <th>HalfBath</th>\n",
       "      <th>BedroomAbvGr</th>\n",
       "      <th>TotRmsAbvGrd</th>\n",
       "      <th>Fireplaces</th>\n",
       "      <th>GarageArea</th>\n",
       "      <th>AboveMedianPrice</th>\n",
       "    </tr>\n",
       "  </thead>\n",
       "  <tbody>\n",
       "    <tr>\n",
       "      <th>0</th>\n",
       "      <td>8450</td>\n",
       "      <td>7</td>\n",
       "      <td>5</td>\n",
       "      <td>856</td>\n",
       "      <td>2</td>\n",
       "      <td>1</td>\n",
       "      <td>3</td>\n",
       "      <td>8</td>\n",
       "      <td>0</td>\n",
       "      <td>548</td>\n",
       "      <td>1</td>\n",
       "    </tr>\n",
       "    <tr>\n",
       "      <th>1</th>\n",
       "      <td>9600</td>\n",
       "      <td>6</td>\n",
       "      <td>8</td>\n",
       "      <td>1262</td>\n",
       "      <td>2</td>\n",
       "      <td>0</td>\n",
       "      <td>3</td>\n",
       "      <td>6</td>\n",
       "      <td>1</td>\n",
       "      <td>460</td>\n",
       "      <td>1</td>\n",
       "    </tr>\n",
       "    <tr>\n",
       "      <th>2</th>\n",
       "      <td>11250</td>\n",
       "      <td>7</td>\n",
       "      <td>5</td>\n",
       "      <td>920</td>\n",
       "      <td>2</td>\n",
       "      <td>1</td>\n",
       "      <td>3</td>\n",
       "      <td>6</td>\n",
       "      <td>1</td>\n",
       "      <td>608</td>\n",
       "      <td>1</td>\n",
       "    </tr>\n",
       "    <tr>\n",
       "      <th>3</th>\n",
       "      <td>9550</td>\n",
       "      <td>7</td>\n",
       "      <td>5</td>\n",
       "      <td>756</td>\n",
       "      <td>1</td>\n",
       "      <td>0</td>\n",
       "      <td>3</td>\n",
       "      <td>7</td>\n",
       "      <td>1</td>\n",
       "      <td>642</td>\n",
       "      <td>0</td>\n",
       "    </tr>\n",
       "    <tr>\n",
       "      <th>4</th>\n",
       "      <td>14260</td>\n",
       "      <td>8</td>\n",
       "      <td>5</td>\n",
       "      <td>1145</td>\n",
       "      <td>2</td>\n",
       "      <td>1</td>\n",
       "      <td>4</td>\n",
       "      <td>9</td>\n",
       "      <td>1</td>\n",
       "      <td>836</td>\n",
       "      <td>1</td>\n",
       "    </tr>\n",
       "    <tr>\n",
       "      <th>...</th>\n",
       "      <td>...</td>\n",
       "      <td>...</td>\n",
       "      <td>...</td>\n",
       "      <td>...</td>\n",
       "      <td>...</td>\n",
       "      <td>...</td>\n",
       "      <td>...</td>\n",
       "      <td>...</td>\n",
       "      <td>...</td>\n",
       "      <td>...</td>\n",
       "      <td>...</td>\n",
       "    </tr>\n",
       "    <tr>\n",
       "      <th>1455</th>\n",
       "      <td>7917</td>\n",
       "      <td>6</td>\n",
       "      <td>5</td>\n",
       "      <td>953</td>\n",
       "      <td>2</td>\n",
       "      <td>1</td>\n",
       "      <td>3</td>\n",
       "      <td>7</td>\n",
       "      <td>1</td>\n",
       "      <td>460</td>\n",
       "      <td>1</td>\n",
       "    </tr>\n",
       "    <tr>\n",
       "      <th>1456</th>\n",
       "      <td>13175</td>\n",
       "      <td>6</td>\n",
       "      <td>6</td>\n",
       "      <td>1542</td>\n",
       "      <td>2</td>\n",
       "      <td>0</td>\n",
       "      <td>3</td>\n",
       "      <td>7</td>\n",
       "      <td>2</td>\n",
       "      <td>500</td>\n",
       "      <td>1</td>\n",
       "    </tr>\n",
       "    <tr>\n",
       "      <th>1457</th>\n",
       "      <td>9042</td>\n",
       "      <td>7</td>\n",
       "      <td>9</td>\n",
       "      <td>1152</td>\n",
       "      <td>2</td>\n",
       "      <td>0</td>\n",
       "      <td>4</td>\n",
       "      <td>9</td>\n",
       "      <td>2</td>\n",
       "      <td>252</td>\n",
       "      <td>1</td>\n",
       "    </tr>\n",
       "    <tr>\n",
       "      <th>1458</th>\n",
       "      <td>9717</td>\n",
       "      <td>5</td>\n",
       "      <td>6</td>\n",
       "      <td>1078</td>\n",
       "      <td>1</td>\n",
       "      <td>0</td>\n",
       "      <td>2</td>\n",
       "      <td>5</td>\n",
       "      <td>0</td>\n",
       "      <td>240</td>\n",
       "      <td>0</td>\n",
       "    </tr>\n",
       "    <tr>\n",
       "      <th>1459</th>\n",
       "      <td>9937</td>\n",
       "      <td>5</td>\n",
       "      <td>6</td>\n",
       "      <td>1256</td>\n",
       "      <td>1</td>\n",
       "      <td>1</td>\n",
       "      <td>3</td>\n",
       "      <td>6</td>\n",
       "      <td>0</td>\n",
       "      <td>276</td>\n",
       "      <td>0</td>\n",
       "    </tr>\n",
       "  </tbody>\n",
       "</table>\n",
       "<p>1460 rows × 11 columns</p>\n",
       "</div>"
      ],
      "text/plain": [
       "      LotArea  OverallQual  OverallCond  TotalBsmtSF  FullBath  HalfBath  \\\n",
       "0        8450            7            5          856         2         1   \n",
       "1        9600            6            8         1262         2         0   \n",
       "2       11250            7            5          920         2         1   \n",
       "3        9550            7            5          756         1         0   \n",
       "4       14260            8            5         1145         2         1   \n",
       "...       ...          ...          ...          ...       ...       ...   \n",
       "1455     7917            6            5          953         2         1   \n",
       "1456    13175            6            6         1542         2         0   \n",
       "1457     9042            7            9         1152         2         0   \n",
       "1458     9717            5            6         1078         1         0   \n",
       "1459     9937            5            6         1256         1         1   \n",
       "\n",
       "      BedroomAbvGr  TotRmsAbvGrd  Fireplaces  GarageArea  AboveMedianPrice  \n",
       "0                3             8           0         548                 1  \n",
       "1                3             6           1         460                 1  \n",
       "2                3             6           1         608                 1  \n",
       "3                3             7           1         642                 0  \n",
       "4                4             9           1         836                 1  \n",
       "...            ...           ...         ...         ...               ...  \n",
       "1455             3             7           1         460                 1  \n",
       "1456             3             7           2         500                 1  \n",
       "1457             4             9           2         252                 1  \n",
       "1458             2             5           0         240                 0  \n",
       "1459             3             6           0         276                 0  \n",
       "\n",
       "[1460 rows x 11 columns]"
      ]
     },
     "execution_count": 6,
     "metadata": {},
     "output_type": "execute_result"
    }
   ],
   "source": [
    "df"
   ]
  },
  {
   "cell_type": "markdown",
   "id": "59bced77-72c5-4374-ba03-416aab875953",
   "metadata": {},
   "source": [
    "# Visu"
   ]
  },
  {
   "cell_type": "code",
   "execution_count": 7,
   "id": "91036570-1bb1-4e2d-87a9-7fec99f06790",
   "metadata": {},
   "outputs": [
    {
     "data": {
      "text/plain": [
       "0    732\n",
       "1    728\n",
       "Name: AboveMedianPrice, dtype: int64"
      ]
     },
     "execution_count": 7,
     "metadata": {},
     "output_type": "execute_result"
    }
   ],
   "source": [
    "df.AboveMedianPrice.value_counts()"
   ]
  },
  {
   "cell_type": "markdown",
   "id": "a40fa6b2-6974-4106-ac60-dfeb0f502ea6",
   "metadata": {},
   "source": [
    "# Set up dataset for RNN"
   ]
  },
  {
   "cell_type": "markdown",
   "id": "a4c59630-d7f2-447d-ba87-2cb6fbffe8d3",
   "metadata": {},
   "source": [
    "## X and y"
   ]
  },
  {
   "cell_type": "code",
   "execution_count": 8,
   "id": "dc44093c-15ba-45eb-a6dd-b4391cb55c5e",
   "metadata": {},
   "outputs": [],
   "source": [
    "dataset = df.values\n",
    "X = dataset[:,0:10]\n",
    "y = dataset[:,10]"
   ]
  },
  {
   "cell_type": "markdown",
   "id": "2841359a-b4fd-44e8-9ca4-a46b53f1bf46",
   "metadata": {},
   "source": [
    "## train test split + validation set with validation"
   ]
  },
  {
   "cell_type": "code",
   "execution_count": 9,
   "id": "af4d6533-0d5a-440e-8406-bc02de63ff18",
   "metadata": {},
   "outputs": [],
   "source": [
    "X_train,X_test,y_train,y_test = train_test_split(X,y,stratify=y)"
   ]
  },
  {
   "cell_type": "code",
   "execution_count": 10,
   "id": "e08f316e-81be-4ad6-8d3f-cb2248fcd800",
   "metadata": {},
   "outputs": [],
   "source": [
    "scaler = StandardScaler()\n",
    "X_train_scaled = scaler.fit_transform(X_train)\n",
    "X_test_scaled = scaler.transform(X_test)"
   ]
  },
  {
   "cell_type": "code",
   "execution_count": 11,
   "id": "66b2dbf4-c9bc-4b67-84fd-5a6f0c9f30ac",
   "metadata": {},
   "outputs": [],
   "source": [
    "X_train,X_valid,y_train,y_valid = train_test_split(X_train_scaled,y_train,stratify=y_train)"
   ]
  },
  {
   "cell_type": "code",
   "execution_count": 12,
   "id": "5efa15f6-b950-42ef-b7b4-9711501899c0",
   "metadata": {},
   "outputs": [
    {
     "data": {
      "text/plain": [
       "(821, 10)"
      ]
     },
     "execution_count": 12,
     "metadata": {},
     "output_type": "execute_result"
    }
   ],
   "source": [
    "X_train.shape"
   ]
  },
  {
   "cell_type": "code",
   "execution_count": 13,
   "id": "17316d8b-f208-4f92-be95-47432ad75b6d",
   "metadata": {},
   "outputs": [
    {
     "data": {
      "text/plain": [
       "(821,)"
      ]
     },
     "execution_count": 13,
     "metadata": {},
     "output_type": "execute_result"
    }
   ],
   "source": [
    "y_train.shape"
   ]
  },
  {
   "cell_type": "markdown",
   "id": "073ca205-1880-40f3-9acf-8c7615ffbff8",
   "metadata": {},
   "source": [
    "# Keras model"
   ]
  },
  {
   "attachments": {
    "ex_rnn_keras.PNG": {
     "image/png": "[encoded data removed]"
    }
   },
   "cell_type": "markdown",
   "id": "42549825-2493-4bb7-b83b-efd116edb936",
   "metadata": {},
   "source": [
    "The first thing we have to do is to set up the architecture. Let’s first think about what kind of neural network architecture we want. Suppose we want this neural network:\n",
    "![ex_rnn_keras.PNG](attachment:ex_rnn_keras.PNG)\n",
    "In words, we want to have these layers:\n",
    "\n",
    "- Hidden layer 1: 12 neurons, ReLU activation\n",
    "- Hidden layer 2: 16 neurons, ReLU activation\n",
    "- Output Layer: 1 neuron, Sigmoid activation\n",
    "    \n",
    "Now, we need to describe this architecture to Keras. We will be using the Sequential model, which means that we merely need to describe the layers above in sequence."
   ]
  },
  {
   "cell_type": "code",
   "execution_count": 14,
   "id": "2037f770-148c-4e46-ae1c-654a35d0f112",
   "metadata": {},
   "outputs": [
    {
     "name": "stderr",
     "output_type": "stream",
     "text": [
      "2022-06-16 08:58:25.000273: I tensorflow/compiler/jit/xla_cpu_device.cc:41] Not creating XLA devices, tf_xla_enable_xla_devices not set\n",
      "2022-06-16 08:58:25.002579: I tensorflow/stream_executor/platform/default/dso_loader.cc:49] Successfully opened dynamic library libcuda.so.1\n",
      "2022-06-16 08:58:25.102606: I tensorflow/core/common_runtime/gpu/gpu_device.cc:1720] Found device 0 with properties: \n",
      "pciBusID: 0000:61:00.0 name: NVIDIA GeForce GTX 1660 computeCapability: 7.5\n",
      "coreClock: 1.785GHz coreCount: 22 deviceMemorySize: 5.80GiB deviceMemoryBandwidth: 178.86GiB/s\n",
      "2022-06-16 08:58:25.102702: I tensorflow/stream_executor/platform/default/dso_loader.cc:49] Successfully opened dynamic library libcudart.so.10.1\n",
      "2022-06-16 08:58:25.362257: I tensorflow/stream_executor/platform/default/dso_loader.cc:49] Successfully opened dynamic library libcublas.so.10\n",
      "2022-06-16 08:58:25.362495: I tensorflow/stream_executor/platform/default/dso_loader.cc:49] Successfully opened dynamic library libcublasLt.so.10\n",
      "2022-06-16 08:58:25.471318: I tensorflow/stream_executor/platform/default/dso_loader.cc:49] Successfully opened dynamic library libcufft.so.10\n",
      "2022-06-16 08:58:25.527179: I tensorflow/stream_executor/platform/default/dso_loader.cc:49] Successfully opened dynamic library libcurand.so.10\n",
      "2022-06-16 08:58:25.748812: I tensorflow/stream_executor/platform/default/dso_loader.cc:49] Successfully opened dynamic library libcusolver.so.10\n",
      "2022-06-16 08:58:25.800438: I tensorflow/stream_executor/platform/default/dso_loader.cc:49] Successfully opened dynamic library libcusparse.so.10\n",
      "2022-06-16 08:58:26.261349: I tensorflow/stream_executor/platform/default/dso_loader.cc:49] Successfully opened dynamic library libcudnn.so.7\n",
      "2022-06-16 08:58:26.262240: I tensorflow/core/common_runtime/gpu/gpu_device.cc:1862] Adding visible gpu devices: 0\n",
      "2022-06-16 08:58:26.263603: I tensorflow/core/platform/cpu_feature_guard.cc:142] This TensorFlow binary is optimized with oneAPI Deep Neural Network Library (oneDNN) to use the following CPU instructions in performance-critical operations:  SSE4.1 SSE4.2 AVX AVX2 AVX512F FMA\n",
      "To enable them in other operations, rebuild TensorFlow with the appropriate compiler flags.\n",
      "2022-06-16 08:58:26.264656: I tensorflow/compiler/jit/xla_gpu_device.cc:99] Not creating XLA devices, tf_xla_enable_xla_devices not set\n",
      "2022-06-16 08:58:26.265430: I tensorflow/core/common_runtime/gpu/gpu_device.cc:1720] Found device 0 with properties: \n",
      "pciBusID: 0000:61:00.0 name: NVIDIA GeForce GTX 1660 computeCapability: 7.5\n",
      "coreClock: 1.785GHz coreCount: 22 deviceMemorySize: 5.80GiB deviceMemoryBandwidth: 178.86GiB/s\n",
      "2022-06-16 08:58:26.265511: I tensorflow/stream_executor/platform/default/dso_loader.cc:49] Successfully opened dynamic library libcudart.so.10.1\n",
      "2022-06-16 08:58:26.265575: I tensorflow/stream_executor/platform/default/dso_loader.cc:49] Successfully opened dynamic library libcublas.so.10\n",
      "2022-06-16 08:58:26.265615: I tensorflow/stream_executor/platform/default/dso_loader.cc:49] Successfully opened dynamic library libcublasLt.so.10\n",
      "2022-06-16 08:58:26.265654: I tensorflow/stream_executor/platform/default/dso_loader.cc:49] Successfully opened dynamic library libcufft.so.10\n",
      "2022-06-16 08:58:26.265694: I tensorflow/stream_executor/platform/default/dso_loader.cc:49] Successfully opened dynamic library libcurand.so.10\n",
      "2022-06-16 08:58:26.265734: I tensorflow/stream_executor/platform/default/dso_loader.cc:49] Successfully opened dynamic library libcusolver.so.10\n",
      "2022-06-16 08:58:26.265772: I tensorflow/stream_executor/platform/default/dso_loader.cc:49] Successfully opened dynamic library libcusparse.so.10\n",
      "2022-06-16 08:58:26.265812: I tensorflow/stream_executor/platform/default/dso_loader.cc:49] Successfully opened dynamic library libcudnn.so.7\n",
      "2022-06-16 08:58:26.266751: I tensorflow/core/common_runtime/gpu/gpu_device.cc:1862] Adding visible gpu devices: 0\n",
      "2022-06-16 08:58:26.271174: I tensorflow/stream_executor/platform/default/dso_loader.cc:49] Successfully opened dynamic library libcudart.so.10.1\n",
      "2022-06-16 08:58:30.511597: I tensorflow/core/common_runtime/gpu/gpu_device.cc:1261] Device interconnect StreamExecutor with strength 1 edge matrix:\n",
      "2022-06-16 08:58:30.511664: I tensorflow/core/common_runtime/gpu/gpu_device.cc:1267]      0 \n",
      "2022-06-16 08:58:30.511697: I tensorflow/core/common_runtime/gpu/gpu_device.cc:1280] 0:   N \n",
      "2022-06-16 08:58:30.520112: I tensorflow/core/common_runtime/gpu/gpu_device.cc:1406] Created TensorFlow device (/job:localhost/replica:0/task:0/device:GPU:0 with 4969 MB memory) -> physical GPU (device: 0, name: NVIDIA GeForce GTX 1660, pci bus id: 0000:61:00.0, compute capability: 7.5)\n"
     ]
    }
   ],
   "source": [
    "model = keras.Sequential(\n",
    "    [\n",
    "        Dense(12,activation='relu',name='layer1',input_shape=(10,)),# pas besoin d'input sequentiel le réalise de manière automatique\n",
    "        Dense(16,activation='relu',name='layer2'),\n",
    "        Dense(1,activation='sigmoid',name='output_layer'),\n",
    "    ]\n",
    ")"
   ]
  },
  {
   "cell_type": "code",
   "execution_count": 15,
   "id": "6ce3cd1d-c1f7-400a-b368-9a30b5eacb44",
   "metadata": {},
   "outputs": [],
   "source": [
    "lr_schedule = keras.optimizers.schedules.ExponentialDecay(\n",
    "    initial_learning_rate=1e-1,\n",
    "    decay_steps=10000,\n",
    "    decay_rate=0.9)\n",
    "\n",
    "opt = keras.optimizers.Adam(learning_rate=lr_schedule)"
   ]
  },
  {
   "cell_type": "code",
   "execution_count": 16,
   "id": "59cdf9c1-af99-48df-951f-74936ae848f6",
   "metadata": {},
   "outputs": [],
   "source": [
    "model.compile(loss='binary_crossentropy', optimizer=opt, metrics=['accuracy'])"
   ]
  },
  {
   "cell_type": "code",
   "execution_count": 17,
   "id": "d50d42e5-1a05-41b2-b228-cae1a2bb31e9",
   "metadata": {
    "scrolled": true,
    "tags": []
   },
   "outputs": [
    {
     "name": "stderr",
     "output_type": "stream",
     "text": [
      "2022-06-16 08:58:31.262255: I tensorflow/compiler/mlir/mlir_graph_optimization_pass.cc:116] None of the MLIR optimization passes are enabled (registered 2)\n",
      "2022-06-16 08:58:31.302571: I tensorflow/core/platform/profile_utils/cpu_utils.cc:112] CPU Frequency: 1700000000 Hz\n"
     ]
    },
    {
     "name": "stdout",
     "output_type": "stream",
     "text": [
      "Epoch 1/100\n"
     ]
    },
    {
     "name": "stderr",
     "output_type": "stream",
     "text": [
      "2022-06-16 08:58:32.150573: I tensorflow/stream_executor/platform/default/dso_loader.cc:49] Successfully opened dynamic library libcublas.so.10\n"
     ]
    },
    {
     "name": "stdout",
     "output_type": "stream",
     "text": [
      "35/35 [==============================] - 3s 24ms/step - loss: 0.4532 - accuracy: 0.7626 - val_loss: 0.2600 - val_accuracy: 0.8869\n",
      "Epoch 2/100\n",
      "35/35 [==============================] - 0s 5ms/step - loss: 0.3367 - accuracy: 0.8905 - val_loss: 0.2663 - val_accuracy: 0.8978\n",
      "Epoch 3/100\n",
      "35/35 [==============================] - 0s 5ms/step - loss: 0.2697 - accuracy: 0.8883 - val_loss: 0.3139 - val_accuracy: 0.8905\n",
      "Epoch 4/100\n",
      "35/35 [==============================] - 0s 5ms/step - loss: 0.2661 - accuracy: 0.8952 - val_loss: 0.3472 - val_accuracy: 0.8759\n",
      "Epoch 5/100\n",
      "35/35 [==============================] - 0s 5ms/step - loss: 0.2232 - accuracy: 0.9126 - val_loss: 0.3023 - val_accuracy: 0.8905\n",
      "Epoch 6/100\n",
      "35/35 [==============================] - 0s 5ms/step - loss: 0.2495 - accuracy: 0.9146 - val_loss: 0.2660 - val_accuracy: 0.8978\n",
      "Epoch 7/100\n",
      "35/35 [==============================] - 0s 5ms/step - loss: 0.2320 - accuracy: 0.8887 - val_loss: 0.2551 - val_accuracy: 0.8978\n",
      "Epoch 8/100\n",
      "35/35 [==============================] - 0s 5ms/step - loss: 0.2377 - accuracy: 0.9005 - val_loss: 0.2785 - val_accuracy: 0.8869\n",
      "Epoch 9/100\n",
      "35/35 [==============================] - 0s 5ms/step - loss: 0.2200 - accuracy: 0.9046 - val_loss: 0.2636 - val_accuracy: 0.8832\n",
      "Epoch 10/100\n",
      "35/35 [==============================] - 0s 4ms/step - loss: 0.2068 - accuracy: 0.9087 - val_loss: 0.2866 - val_accuracy: 0.8905\n",
      "Epoch 11/100\n",
      "35/35 [==============================] - 0s 5ms/step - loss: 0.2163 - accuracy: 0.9280 - val_loss: 0.2577 - val_accuracy: 0.9124\n",
      "Epoch 12/100\n",
      "35/35 [==============================] - 0s 5ms/step - loss: 0.1982 - accuracy: 0.9150 - val_loss: 0.2796 - val_accuracy: 0.8686\n",
      "Epoch 13/100\n",
      "35/35 [==============================] - 0s 5ms/step - loss: 0.2793 - accuracy: 0.9022 - val_loss: 0.2888 - val_accuracy: 0.8613\n",
      "Epoch 14/100\n",
      "35/35 [==============================] - 0s 5ms/step - loss: 0.1774 - accuracy: 0.9301 - val_loss: 0.2474 - val_accuracy: 0.9015\n",
      "Epoch 15/100\n",
      "35/35 [==============================] - 0s 4ms/step - loss: 0.2454 - accuracy: 0.9034 - val_loss: 0.3156 - val_accuracy: 0.8796\n",
      "Epoch 16/100\n",
      "35/35 [==============================] - 0s 4ms/step - loss: 0.2163 - accuracy: 0.9213 - val_loss: 0.3179 - val_accuracy: 0.8723\n",
      "Epoch 17/100\n",
      "35/35 [==============================] - 0s 4ms/step - loss: 0.2095 - accuracy: 0.9258 - val_loss: 0.3084 - val_accuracy: 0.8869\n",
      "Epoch 18/100\n",
      "35/35 [==============================] - 0s 5ms/step - loss: 0.1918 - accuracy: 0.9244 - val_loss: 0.3504 - val_accuracy: 0.8905\n",
      "Epoch 19/100\n",
      "35/35 [==============================] - 0s 4ms/step - loss: 0.1749 - accuracy: 0.9318 - val_loss: 0.3701 - val_accuracy: 0.8978\n",
      "Epoch 20/100\n",
      "35/35 [==============================] - 0s 4ms/step - loss: 0.2069 - accuracy: 0.9132 - val_loss: 0.2994 - val_accuracy: 0.8942\n",
      "Epoch 21/100\n",
      "35/35 [==============================] - 0s 5ms/step - loss: 0.1814 - accuracy: 0.9379 - val_loss: 0.2853 - val_accuracy: 0.9088\n",
      "Epoch 22/100\n",
      "35/35 [==============================] - 0s 5ms/step - loss: 0.1818 - accuracy: 0.9212 - val_loss: 0.3264 - val_accuracy: 0.8942\n",
      "Epoch 23/100\n",
      "35/35 [==============================] - 0s 5ms/step - loss: 0.1614 - accuracy: 0.9374 - val_loss: 0.3682 - val_accuracy: 0.8869\n",
      "Epoch 24/100\n",
      "35/35 [==============================] - 0s 5ms/step - loss: 0.1650 - accuracy: 0.9322 - val_loss: 0.3926 - val_accuracy: 0.8978\n",
      "Epoch 25/100\n",
      "35/35 [==============================] - 0s 4ms/step - loss: 0.2260 - accuracy: 0.9356 - val_loss: 0.3118 - val_accuracy: 0.8832\n",
      "Epoch 26/100\n",
      "35/35 [==============================] - 0s 4ms/step - loss: 0.2147 - accuracy: 0.9080 - val_loss: 0.4346 - val_accuracy: 0.8978\n",
      "Epoch 27/100\n",
      "35/35 [==============================] - 0s 4ms/step - loss: 0.1566 - accuracy: 0.9296 - val_loss: 0.3520 - val_accuracy: 0.8942\n",
      "Epoch 28/100\n",
      "35/35 [==============================] - 0s 4ms/step - loss: 0.1648 - accuracy: 0.9365 - val_loss: 0.3043 - val_accuracy: 0.8759\n",
      "Epoch 29/100\n",
      "35/35 [==============================] - 0s 5ms/step - loss: 0.1931 - accuracy: 0.9218 - val_loss: 0.2738 - val_accuracy: 0.8796\n",
      "Epoch 30/100\n",
      "35/35 [==============================] - 0s 4ms/step - loss: 0.2200 - accuracy: 0.9138 - val_loss: 0.4016 - val_accuracy: 0.8942\n",
      "Epoch 31/100\n",
      "35/35 [==============================] - 0s 5ms/step - loss: 0.2078 - accuracy: 0.9245 - val_loss: 0.2888 - val_accuracy: 0.9124\n",
      "Epoch 32/100\n",
      "35/35 [==============================] - 0s 5ms/step - loss: 0.1711 - accuracy: 0.9264 - val_loss: 0.2816 - val_accuracy: 0.9015\n",
      "Epoch 33/100\n",
      "35/35 [==============================] - 0s 5ms/step - loss: 0.1647 - accuracy: 0.9248 - val_loss: 0.3112 - val_accuracy: 0.8942\n",
      "Epoch 34/100\n",
      "35/35 [==============================] - 0s 5ms/step - loss: 0.1557 - accuracy: 0.9353 - val_loss: 0.3033 - val_accuracy: 0.9088\n",
      "Epoch 35/100\n",
      "35/35 [==============================] - 0s 5ms/step - loss: 0.1750 - accuracy: 0.9194 - val_loss: 0.2936 - val_accuracy: 0.8978\n",
      "Epoch 36/100\n",
      "35/35 [==============================] - 0s 5ms/step - loss: 0.1547 - accuracy: 0.9326 - val_loss: 0.3202 - val_accuracy: 0.8978\n",
      "Epoch 37/100\n",
      "35/35 [==============================] - 0s 5ms/step - loss: 0.1944 - accuracy: 0.9177 - val_loss: 0.2876 - val_accuracy: 0.9051\n",
      "Epoch 38/100\n",
      "35/35 [==============================] - 0s 4ms/step - loss: 0.1562 - accuracy: 0.9289 - val_loss: 0.2701 - val_accuracy: 0.8942\n",
      "Epoch 39/100\n",
      "35/35 [==============================] - 0s 4ms/step - loss: 0.1898 - accuracy: 0.9190 - val_loss: 0.3332 - val_accuracy: 0.8759\n",
      "Epoch 40/100\n",
      "35/35 [==============================] - 0s 5ms/step - loss: 0.2109 - accuracy: 0.9220 - val_loss: 0.2904 - val_accuracy: 0.8978\n",
      "Epoch 41/100\n",
      "35/35 [==============================] - 0s 5ms/step - loss: 0.2075 - accuracy: 0.9208 - val_loss: 0.3465 - val_accuracy: 0.8905\n",
      "Epoch 42/100\n",
      "35/35 [==============================] - 0s 4ms/step - loss: 0.1727 - accuracy: 0.9406 - val_loss: 0.3279 - val_accuracy: 0.8905\n",
      "Epoch 43/100\n",
      "35/35 [==============================] - 0s 4ms/step - loss: 0.1434 - accuracy: 0.9413 - val_loss: 0.2619 - val_accuracy: 0.9015\n",
      "Epoch 44/100\n",
      "35/35 [==============================] - 0s 5ms/step - loss: 0.1591 - accuracy: 0.9368 - val_loss: 0.3430 - val_accuracy: 0.8869\n",
      "Epoch 45/100\n",
      "35/35 [==============================] - 0s 4ms/step - loss: 0.1753 - accuracy: 0.9264 - val_loss: 0.3009 - val_accuracy: 0.8832\n",
      "Epoch 46/100\n",
      "35/35 [==============================] - 0s 4ms/step - loss: 0.1792 - accuracy: 0.9302 - val_loss: 0.4417 - val_accuracy: 0.8905\n",
      "Epoch 47/100\n",
      "35/35 [==============================] - 0s 5ms/step - loss: 0.1907 - accuracy: 0.9205 - val_loss: 0.3132 - val_accuracy: 0.8869\n",
      "Epoch 48/100\n",
      "35/35 [==============================] - 0s 4ms/step - loss: 0.1831 - accuracy: 0.9176 - val_loss: 0.3461 - val_accuracy: 0.8869\n",
      "Epoch 49/100\n",
      "35/35 [==============================] - 0s 4ms/step - loss: 0.1548 - accuracy: 0.9236 - val_loss: 0.2983 - val_accuracy: 0.8905\n",
      "Epoch 50/100\n",
      "35/35 [==============================] - 0s 4ms/step - loss: 0.1620 - accuracy: 0.9320 - val_loss: 0.3057 - val_accuracy: 0.8759\n",
      "Epoch 51/100\n",
      "35/35 [==============================] - 0s 4ms/step - loss: 0.1504 - accuracy: 0.9335 - val_loss: 0.3491 - val_accuracy: 0.8905\n",
      "Epoch 52/100\n",
      "35/35 [==============================] - 0s 5ms/step - loss: 0.1622 - accuracy: 0.9217 - val_loss: 0.3274 - val_accuracy: 0.8942\n",
      "Epoch 53/100\n",
      "35/35 [==============================] - 0s 4ms/step - loss: 0.1912 - accuracy: 0.9162 - val_loss: 0.4262 - val_accuracy: 0.8978\n",
      "Epoch 54/100\n",
      "35/35 [==============================] - 0s 4ms/step - loss: 0.1305 - accuracy: 0.9379 - val_loss: 0.3690 - val_accuracy: 0.8942\n",
      "Epoch 55/100\n",
      "35/35 [==============================] - 0s 4ms/step - loss: 0.1721 - accuracy: 0.9154 - val_loss: 0.5882 - val_accuracy: 0.9015\n",
      "Epoch 56/100\n",
      "35/35 [==============================] - 0s 4ms/step - loss: 0.1611 - accuracy: 0.9238 - val_loss: 0.4952 - val_accuracy: 0.8942\n",
      "Epoch 57/100\n",
      "35/35 [==============================] - 0s 4ms/step - loss: 0.1387 - accuracy: 0.9413 - val_loss: 0.5066 - val_accuracy: 0.9015\n",
      "Epoch 58/100\n",
      "35/35 [==============================] - 0s 4ms/step - loss: 0.1214 - accuracy: 0.9507 - val_loss: 0.3947 - val_accuracy: 0.8978\n",
      "Epoch 59/100\n",
      "35/35 [==============================] - 0s 4ms/step - loss: 0.1560 - accuracy: 0.9256 - val_loss: 0.4340 - val_accuracy: 0.9051\n",
      "Epoch 60/100\n",
      "35/35 [==============================] - 0s 4ms/step - loss: 0.1382 - accuracy: 0.9297 - val_loss: 0.5052 - val_accuracy: 0.9015\n",
      "Epoch 61/100\n",
      "35/35 [==============================] - 0s 5ms/step - loss: 0.1732 - accuracy: 0.9186 - val_loss: 0.4394 - val_accuracy: 0.9051\n",
      "Epoch 62/100\n",
      "35/35 [==============================] - 0s 4ms/step - loss: 0.1392 - accuracy: 0.9362 - val_loss: 0.4476 - val_accuracy: 0.8978\n",
      "Epoch 63/100\n",
      "35/35 [==============================] - 0s 5ms/step - loss: 0.1289 - accuracy: 0.9357 - val_loss: 0.3691 - val_accuracy: 0.8869\n",
      "Epoch 64/100\n",
      "35/35 [==============================] - 0s 5ms/step - loss: 0.1160 - accuracy: 0.9533 - val_loss: 0.3372 - val_accuracy: 0.8942\n",
      "Epoch 65/100\n",
      "35/35 [==============================] - 0s 5ms/step - loss: 0.1381 - accuracy: 0.9273 - val_loss: 0.5048 - val_accuracy: 0.9015\n",
      "Epoch 66/100\n",
      "35/35 [==============================] - 0s 5ms/step - loss: 0.1392 - accuracy: 0.9321 - val_loss: 0.5052 - val_accuracy: 0.8832\n",
      "Epoch 67/100\n",
      "35/35 [==============================] - 0s 5ms/step - loss: 0.2109 - accuracy: 0.9278 - val_loss: 0.4722 - val_accuracy: 0.8796\n",
      "Epoch 68/100\n",
      "35/35 [==============================] - 0s 4ms/step - loss: 0.2489 - accuracy: 0.8838 - val_loss: 0.4826 - val_accuracy: 0.8723\n",
      "Epoch 69/100\n",
      "35/35 [==============================] - 0s 4ms/step - loss: 0.3451 - accuracy: 0.8792 - val_loss: 0.6110 - val_accuracy: 0.8686\n",
      "Epoch 70/100\n",
      "35/35 [==============================] - 0s 4ms/step - loss: 0.2943 - accuracy: 0.9066 - val_loss: 0.3893 - val_accuracy: 0.8686\n",
      "Epoch 71/100\n",
      "35/35 [==============================] - 0s 5ms/step - loss: 0.2494 - accuracy: 0.9111 - val_loss: 0.5856 - val_accuracy: 0.8686\n",
      "Epoch 72/100\n",
      "35/35 [==============================] - 0s 5ms/step - loss: 0.2532 - accuracy: 0.9060 - val_loss: 0.5374 - val_accuracy: 0.8723\n",
      "Epoch 73/100\n",
      "35/35 [==============================] - 0s 4ms/step - loss: 0.2034 - accuracy: 0.9118 - val_loss: 0.4603 - val_accuracy: 0.8650\n",
      "Epoch 74/100\n",
      "35/35 [==============================] - 0s 4ms/step - loss: 0.2104 - accuracy: 0.9151 - val_loss: 0.5606 - val_accuracy: 0.8832\n",
      "Epoch 75/100\n",
      "35/35 [==============================] - 0s 4ms/step - loss: 0.1595 - accuracy: 0.9444 - val_loss: 0.6605 - val_accuracy: 0.8869\n",
      "Epoch 76/100\n",
      "35/35 [==============================] - 0s 4ms/step - loss: 0.1692 - accuracy: 0.9454 - val_loss: 0.5293 - val_accuracy: 0.8832\n",
      "Epoch 77/100\n",
      "35/35 [==============================] - 0s 4ms/step - loss: 0.2479 - accuracy: 0.8987 - val_loss: 0.4476 - val_accuracy: 0.8978\n",
      "Epoch 78/100\n",
      "35/35 [==============================] - 0s 5ms/step - loss: 0.1937 - accuracy: 0.9291 - val_loss: 0.5433 - val_accuracy: 0.9124\n",
      "Epoch 79/100\n",
      "35/35 [==============================] - 0s 4ms/step - loss: 0.2325 - accuracy: 0.9285 - val_loss: 0.7713 - val_accuracy: 0.8832\n",
      "Epoch 80/100\n",
      "35/35 [==============================] - 0s 4ms/step - loss: 0.1970 - accuracy: 0.9366 - val_loss: 0.4648 - val_accuracy: 0.8869\n",
      "Epoch 81/100\n",
      "35/35 [==============================] - 0s 5ms/step - loss: 0.1615 - accuracy: 0.9507 - val_loss: 0.4844 - val_accuracy: 0.8869\n",
      "Epoch 82/100\n",
      "35/35 [==============================] - 0s 5ms/step - loss: 0.2098 - accuracy: 0.9214 - val_loss: 0.7498 - val_accuracy: 0.8832\n",
      "Epoch 83/100\n",
      "35/35 [==============================] - 0s 4ms/step - loss: 0.2045 - accuracy: 0.9419 - val_loss: 0.4492 - val_accuracy: 0.8869\n",
      "Epoch 84/100\n",
      "35/35 [==============================] - 0s 4ms/step - loss: 0.1832 - accuracy: 0.9368 - val_loss: 0.4669 - val_accuracy: 0.8832\n",
      "Epoch 85/100\n",
      "35/35 [==============================] - 0s 4ms/step - loss: 0.1615 - accuracy: 0.9458 - val_loss: 0.5834 - val_accuracy: 0.8942\n",
      "Epoch 86/100\n",
      "35/35 [==============================] - 0s 4ms/step - loss: 0.2257 - accuracy: 0.9258 - val_loss: 0.4430 - val_accuracy: 0.8759\n",
      "Epoch 87/100\n",
      "35/35 [==============================] - 0s 4ms/step - loss: 0.1582 - accuracy: 0.9440 - val_loss: 0.3847 - val_accuracy: 0.9051\n",
      "Epoch 88/100\n",
      "35/35 [==============================] - 0s 5ms/step - loss: 0.2084 - accuracy: 0.9221 - val_loss: 0.5902 - val_accuracy: 0.8796\n",
      "Epoch 89/100\n",
      "35/35 [==============================] - 0s 4ms/step - loss: 0.1658 - accuracy: 0.9441 - val_loss: 0.5491 - val_accuracy: 0.8942\n",
      "Epoch 90/100\n",
      "35/35 [==============================] - 0s 4ms/step - loss: 0.2279 - accuracy: 0.9331 - val_loss: 0.5437 - val_accuracy: 0.9051\n",
      "Epoch 91/100\n",
      "35/35 [==============================] - 0s 4ms/step - loss: 0.1494 - accuracy: 0.9574 - val_loss: 0.5016 - val_accuracy: 0.8942\n",
      "Epoch 92/100\n",
      "35/35 [==============================] - 0s 4ms/step - loss: 0.1637 - accuracy: 0.9502 - val_loss: 0.6204 - val_accuracy: 0.8905\n",
      "Epoch 93/100\n",
      "35/35 [==============================] - 0s 5ms/step - loss: 0.1862 - accuracy: 0.9412 - val_loss: 0.5335 - val_accuracy: 0.8869\n",
      "Epoch 94/100\n",
      "35/35 [==============================] - 0s 5ms/step - loss: 0.1912 - accuracy: 0.9383 - val_loss: 0.4371 - val_accuracy: 0.8796\n",
      "Epoch 95/100\n",
      "35/35 [==============================] - 0s 5ms/step - loss: 0.1602 - accuracy: 0.9500 - val_loss: 0.4309 - val_accuracy: 0.8905\n",
      "Epoch 96/100\n",
      "35/35 [==============================] - 0s 4ms/step - loss: 0.1704 - accuracy: 0.9459 - val_loss: 0.5264 - val_accuracy: 0.8796\n",
      "Epoch 97/100\n",
      "35/35 [==============================] - 0s 4ms/step - loss: 0.1441 - accuracy: 0.9591 - val_loss: 0.5226 - val_accuracy: 0.8869\n",
      "Epoch 98/100\n",
      "35/35 [==============================] - 0s 5ms/step - loss: 0.1733 - accuracy: 0.9461 - val_loss: 0.4770 - val_accuracy: 0.8869\n",
      "Epoch 99/100\n",
      "35/35 [==============================] - 0s 5ms/step - loss: 0.1603 - accuracy: 0.9463 - val_loss: 0.5486 - val_accuracy: 0.8869\n",
      "Epoch 100/100\n",
      "35/35 [==============================] - 0s 4ms/step - loss: 0.1253 - accuracy: 0.9682 - val_loss: 0.4083 - val_accuracy: 0.8686\n"
     ]
    }
   ],
   "source": [
    "history = model.fit(X_train,y_train,epochs=100,batch_size=24,validation_data=(X_valid,y_valid),verbose=1)"
   ]
  },
  {
   "cell_type": "code",
   "execution_count": 18,
   "id": "36a4999d-6bdb-48a0-90bb-8a517366ed23",
   "metadata": {},
   "outputs": [
    {
     "name": "stdout",
     "output_type": "stream",
     "text": [
      "Model: \"sequential\"\n",
      "_________________________________________________________________\n",
      "Layer (type)                 Output Shape              Param #   \n",
      "=================================================================\n",
      "layer1 (Dense)               (None, 12)                132       \n",
      "_________________________________________________________________\n",
      "layer2 (Dense)               (None, 16)                208       \n",
      "_________________________________________________________________\n",
      "output_layer (Dense)         (None, 1)                 17        \n",
      "=================================================================\n",
      "Total params: 357\n",
      "Trainable params: 357\n",
      "Non-trainable params: 0\n",
      "_________________________________________________________________\n"
     ]
    }
   ],
   "source": [
    "model.summary()"
   ]
  },
  {
   "cell_type": "code",
   "execution_count": 19,
   "id": "0f1b86e9-3dbc-4d45-9682-6f76781c2684",
   "metadata": {},
   "outputs": [
    {
     "data": {
      "text/plain": [
       "dict_keys(['loss', 'accuracy', 'val_loss', 'val_accuracy'])"
      ]
     },
     "execution_count": 19,
     "metadata": {},
     "output_type": "execute_result"
    }
   ],
   "source": [
    "history.history.keys()"
   ]
  },
  {
   "cell_type": "code",
   "execution_count": 20,
   "id": "655b5e89-ed53-46fa-9724-d49d631565b1",
   "metadata": {},
   "outputs": [
    {
     "data": {
      "image/png": "[encoded data removed]",
      "text/plain": [
       "<Figure size 1008x504 with 1 Axes>"
      ]
     },
     "metadata": {
      "needs_background": "light"
     },
     "output_type": "display_data"
    }
   ],
   "source": [
    "N=5\n",
    "fig,ax = plt.subplots(figsize=(14,7))\n",
    "acc_val = history.history['val_accuracy']\n",
    "acc_val = np.convolve(acc_val, np.ones(N)/N, mode='valid') # rolling mean of N\n",
    "acc_train = history.history['accuracy']\n",
    "acc_train = np.convolve(acc_train, np.ones(N)/N, mode='valid')\n",
    "ax.plot(acc_train,label='train')\n",
    "ax.plot(acc_val,label='valid')\n",
    "ax.legend()\n",
    "plt.show()"
   ]
  },
  {
   "cell_type": "code",
   "execution_count": 21,
   "id": "df182108-1165-4120-a6b0-41cbcf2bf0c9",
   "metadata": {},
   "outputs": [],
   "source": [
    "pred  = model.predict(X_test_scaled)"
   ]
  },
  {
   "cell_type": "code",
   "execution_count": 22,
   "id": "2f5875ea-6177-49fe-a69e-889db904b76e",
   "metadata": {},
   "outputs": [],
   "source": [
    "pred[pred > 0.5] = 1\n",
    "pred[pred < 0.5] = 0"
   ]
  },
  {
   "cell_type": "code",
   "execution_count": 23,
   "id": "a22c590a-7918-4b99-8353-afb19b7068b0",
   "metadata": {},
   "outputs": [
    {
     "data": {
      "text/plain": [
       "0.8931506849315068"
      ]
     },
     "execution_count": 23,
     "metadata": {},
     "output_type": "execute_result"
    }
   ],
   "source": [
    "accuracy_score(y_test,pred)"
   ]
  },
  {
   "cell_type": "markdown",
   "id": "22051054-f120-4a3a-a050-de3e0c23ea08",
   "metadata": {},
   "source": [
    "### Compare with original compile and parameters"
   ]
  },
  {
   "cell_type": "code",
   "execution_count": 24,
   "id": "8f29d91d-1885-45f0-9105-52ca33a3b8d6",
   "metadata": {},
   "outputs": [],
   "source": [
    "model = keras.Sequential(\n",
    "    [\n",
    "        Dense(12,activation='relu',name='layer1',input_shape=(10,)),\n",
    "        Dense(16,activation='relu',name='layer2'),\n",
    "        Dense(1,activation='sigmoid',name='output_layer'),\n",
    "    ]\n",
    ")"
   ]
  },
  {
   "cell_type": "code",
   "execution_count": 25,
   "id": "28757d6b-0dc3-4f58-8311-867e1ffb031b",
   "metadata": {},
   "outputs": [],
   "source": [
    "opt = keras.optimizers.SGD(learning_rate=0.0001,momentum=0.5)"
   ]
  },
  {
   "cell_type": "code",
   "execution_count": 26,
   "id": "82fa9b44-706b-419d-8bbd-a28e83693cf3",
   "metadata": {
    "scrolled": true,
    "tags": []
   },
   "outputs": [
    {
     "name": "stdout",
     "output_type": "stream",
     "text": [
      "Epoch 1/100\n",
      "35/35 [==============================] - 1s 9ms/step - loss: 0.7834 - accuracy: 0.3738 - val_loss: 0.7846 - val_accuracy: 0.3467\n",
      "Epoch 2/100\n",
      "35/35 [==============================] - 0s 4ms/step - loss: 0.7759 - accuracy: 0.3608 - val_loss: 0.7825 - val_accuracy: 0.3504\n",
      "Epoch 3/100\n",
      "35/35 [==============================] - 0s 4ms/step - loss: 0.7704 - accuracy: 0.3715 - val_loss: 0.7805 - val_accuracy: 0.3540\n",
      "Epoch 4/100\n",
      "35/35 [==============================] - 0s 5ms/step - loss: 0.7720 - accuracy: 0.3816 - val_loss: 0.7785 - val_accuracy: 0.3577\n",
      "Epoch 5/100\n",
      "35/35 [==============================] - 0s 5ms/step - loss: 0.7605 - accuracy: 0.4022 - val_loss: 0.7764 - val_accuracy: 0.3613\n",
      "Epoch 6/100\n",
      "35/35 [==============================] - 0s 5ms/step - loss: 0.7590 - accuracy: 0.3998 - val_loss: 0.7744 - val_accuracy: 0.3650\n",
      "Epoch 7/100\n",
      "35/35 [==============================] - 0s 5ms/step - loss: 0.7732 - accuracy: 0.3636 - val_loss: 0.7724 - val_accuracy: 0.3650\n",
      "Epoch 8/100\n",
      "35/35 [==============================] - 0s 4ms/step - loss: 0.7611 - accuracy: 0.3703 - val_loss: 0.7705 - val_accuracy: 0.3686\n",
      "Epoch 9/100\n",
      "35/35 [==============================] - 0s 4ms/step - loss: 0.7545 - accuracy: 0.4128 - val_loss: 0.7685 - val_accuracy: 0.3686\n",
      "Epoch 10/100\n",
      "35/35 [==============================] - 0s 4ms/step - loss: 0.7593 - accuracy: 0.3934 - val_loss: 0.7666 - val_accuracy: 0.3759\n",
      "Epoch 11/100\n",
      "35/35 [==============================] - 0s 4ms/step - loss: 0.7592 - accuracy: 0.3822 - val_loss: 0.7647 - val_accuracy: 0.3796\n",
      "Epoch 12/100\n",
      "35/35 [==============================] - 0s 5ms/step - loss: 0.7500 - accuracy: 0.3939 - val_loss: 0.7628 - val_accuracy: 0.3796\n",
      "Epoch 13/100\n",
      "35/35 [==============================] - 0s 5ms/step - loss: 0.7495 - accuracy: 0.3995 - val_loss: 0.7610 - val_accuracy: 0.3796\n",
      "Epoch 14/100\n",
      "35/35 [==============================] - 0s 5ms/step - loss: 0.7568 - accuracy: 0.3905 - val_loss: 0.7591 - val_accuracy: 0.3832\n",
      "Epoch 15/100\n",
      "35/35 [==============================] - 0s 4ms/step - loss: 0.7443 - accuracy: 0.4123 - val_loss: 0.7573 - val_accuracy: 0.3832\n",
      "Epoch 16/100\n",
      "35/35 [==============================] - 0s 5ms/step - loss: 0.7549 - accuracy: 0.4091 - val_loss: 0.7555 - val_accuracy: 0.3832\n",
      "Epoch 17/100\n",
      "35/35 [==============================] - 0s 5ms/step - loss: 0.7437 - accuracy: 0.4246 - val_loss: 0.7537 - val_accuracy: 0.3869\n",
      "Epoch 18/100\n",
      "35/35 [==============================] - 0s 5ms/step - loss: 0.7392 - accuracy: 0.4174 - val_loss: 0.7520 - val_accuracy: 0.3905\n",
      "Epoch 19/100\n",
      "35/35 [==============================] - 0s 5ms/step - loss: 0.7426 - accuracy: 0.3931 - val_loss: 0.7503 - val_accuracy: 0.3905\n",
      "Epoch 20/100\n",
      "35/35 [==============================] - 0s 5ms/step - loss: 0.7409 - accuracy: 0.4071 - val_loss: 0.7485 - val_accuracy: 0.3905\n",
      "Epoch 21/100\n",
      "35/35 [==============================] - 0s 5ms/step - loss: 0.7313 - accuracy: 0.4222 - val_loss: 0.7468 - val_accuracy: 0.3978\n",
      "Epoch 22/100\n",
      "35/35 [==============================] - 0s 5ms/step - loss: 0.7419 - accuracy: 0.4062 - val_loss: 0.7452 - val_accuracy: 0.3978\n",
      "Epoch 23/100\n",
      "35/35 [==============================] - 0s 5ms/step - loss: 0.7334 - accuracy: 0.4295 - val_loss: 0.7435 - val_accuracy: 0.3942\n",
      "Epoch 24/100\n",
      "35/35 [==============================] - 0s 5ms/step - loss: 0.7398 - accuracy: 0.4282 - val_loss: 0.7419 - val_accuracy: 0.3942\n",
      "Epoch 25/100\n",
      "35/35 [==============================] - 0s 5ms/step - loss: 0.7422 - accuracy: 0.3909 - val_loss: 0.7402 - val_accuracy: 0.4015\n",
      "Epoch 26/100\n",
      "35/35 [==============================] - 0s 5ms/step - loss: 0.7277 - accuracy: 0.4445 - val_loss: 0.7386 - val_accuracy: 0.4051\n",
      "Epoch 27/100\n",
      "35/35 [==============================] - 0s 5ms/step - loss: 0.7248 - accuracy: 0.4287 - val_loss: 0.7370 - val_accuracy: 0.4161\n",
      "Epoch 28/100\n",
      "35/35 [==============================] - 0s 5ms/step - loss: 0.7191 - accuracy: 0.4377 - val_loss: 0.7354 - val_accuracy: 0.4161\n",
      "Epoch 29/100\n",
      "35/35 [==============================] - 0s 4ms/step - loss: 0.7302 - accuracy: 0.4042 - val_loss: 0.7339 - val_accuracy: 0.4161\n",
      "Epoch 30/100\n",
      "35/35 [==============================] - 0s 5ms/step - loss: 0.7279 - accuracy: 0.4210 - val_loss: 0.7323 - val_accuracy: 0.4197\n",
      "Epoch 31/100\n",
      "35/35 [==============================] - 0s 6ms/step - loss: 0.7178 - accuracy: 0.4528 - val_loss: 0.7308 - val_accuracy: 0.4270\n",
      "Epoch 32/100\n",
      "35/35 [==============================] - 0s 5ms/step - loss: 0.7238 - accuracy: 0.4319 - val_loss: 0.7292 - val_accuracy: 0.4270\n",
      "Epoch 33/100\n",
      "35/35 [==============================] - 0s 4ms/step - loss: 0.7377 - accuracy: 0.4133 - val_loss: 0.7277 - val_accuracy: 0.4270\n",
      "Epoch 34/100\n",
      "35/35 [==============================] - 0s 4ms/step - loss: 0.7176 - accuracy: 0.4500 - val_loss: 0.7262 - val_accuracy: 0.4234\n",
      "Epoch 35/100\n",
      "35/35 [==============================] - 0s 5ms/step - loss: 0.7178 - accuracy: 0.4517 - val_loss: 0.7247 - val_accuracy: 0.4234\n",
      "Epoch 36/100\n",
      "35/35 [==============================] - 0s 4ms/step - loss: 0.7187 - accuracy: 0.4493 - val_loss: 0.7233 - val_accuracy: 0.4343\n",
      "Epoch 37/100\n",
      "35/35 [==============================] - 0s 4ms/step - loss: 0.7071 - accuracy: 0.4436 - val_loss: 0.7218 - val_accuracy: 0.4416\n",
      "Epoch 38/100\n",
      "35/35 [==============================] - 0s 5ms/step - loss: 0.7056 - accuracy: 0.4515 - val_loss: 0.7204 - val_accuracy: 0.4416\n",
      "Epoch 39/100\n",
      "35/35 [==============================] - 0s 5ms/step - loss: 0.7056 - accuracy: 0.4512 - val_loss: 0.7189 - val_accuracy: 0.4380\n",
      "Epoch 40/100\n",
      "35/35 [==============================] - 0s 5ms/step - loss: 0.7107 - accuracy: 0.4341 - val_loss: 0.7175 - val_accuracy: 0.4416\n",
      "Epoch 41/100\n",
      "35/35 [==============================] - 0s 5ms/step - loss: 0.7213 - accuracy: 0.4248 - val_loss: 0.7161 - val_accuracy: 0.4453\n",
      "Epoch 42/100\n",
      "35/35 [==============================] - 0s 5ms/step - loss: 0.6973 - accuracy: 0.4846 - val_loss: 0.7147 - val_accuracy: 0.4489\n",
      "Epoch 43/100\n",
      "35/35 [==============================] - 0s 5ms/step - loss: 0.7027 - accuracy: 0.4536 - val_loss: 0.7133 - val_accuracy: 0.4526\n",
      "Epoch 44/100\n",
      "35/35 [==============================] - 0s 5ms/step - loss: 0.7174 - accuracy: 0.4389 - val_loss: 0.7119 - val_accuracy: 0.4526\n",
      "Epoch 45/100\n",
      "35/35 [==============================] - 0s 5ms/step - loss: 0.6963 - accuracy: 0.4612 - val_loss: 0.7105 - val_accuracy: 0.4635\n",
      "Epoch 46/100\n",
      "35/35 [==============================] - 0s 5ms/step - loss: 0.7035 - accuracy: 0.4635 - val_loss: 0.7091 - val_accuracy: 0.4672\n",
      "Epoch 47/100\n",
      "35/35 [==============================] - 0s 5ms/step - loss: 0.6945 - accuracy: 0.4612 - val_loss: 0.7078 - val_accuracy: 0.4672\n",
      "Epoch 48/100\n",
      "35/35 [==============================] - 0s 5ms/step - loss: 0.6906 - accuracy: 0.4888 - val_loss: 0.7064 - val_accuracy: 0.4745\n",
      "Epoch 49/100\n",
      "35/35 [==============================] - 0s 5ms/step - loss: 0.7025 - accuracy: 0.4562 - val_loss: 0.7050 - val_accuracy: 0.4818\n",
      "Epoch 50/100\n",
      "35/35 [==============================] - 0s 5ms/step - loss: 0.6884 - accuracy: 0.4940 - val_loss: 0.7037 - val_accuracy: 0.4854\n",
      "Epoch 51/100\n",
      "35/35 [==============================] - 0s 5ms/step - loss: 0.6761 - accuracy: 0.5220 - val_loss: 0.7024 - val_accuracy: 0.4891\n",
      "Epoch 52/100\n",
      "35/35 [==============================] - 0s 5ms/step - loss: 0.6951 - accuracy: 0.4971 - val_loss: 0.7011 - val_accuracy: 0.4964\n",
      "Epoch 53/100\n",
      "35/35 [==============================] - 0s 5ms/step - loss: 0.6963 - accuracy: 0.5025 - val_loss: 0.6998 - val_accuracy: 0.5073\n",
      "Epoch 54/100\n",
      "35/35 [==============================] - 0s 5ms/step - loss: 0.6818 - accuracy: 0.5134 - val_loss: 0.6985 - val_accuracy: 0.5073\n",
      "Epoch 55/100\n",
      "35/35 [==============================] - 0s 6ms/step - loss: 0.6821 - accuracy: 0.5380 - val_loss: 0.6972 - val_accuracy: 0.5146\n",
      "Epoch 56/100\n",
      "35/35 [==============================] - 0s 5ms/step - loss: 0.6802 - accuracy: 0.5528 - val_loss: 0.6959 - val_accuracy: 0.5146\n",
      "Epoch 57/100\n",
      "35/35 [==============================] - 0s 5ms/step - loss: 0.6781 - accuracy: 0.5441 - val_loss: 0.6947 - val_accuracy: 0.5219\n",
      "Epoch 58/100\n",
      "35/35 [==============================] - 0s 5ms/step - loss: 0.6879 - accuracy: 0.5259 - val_loss: 0.6934 - val_accuracy: 0.5292\n",
      "Epoch 59/100\n",
      "35/35 [==============================] - 0s 5ms/step - loss: 0.6759 - accuracy: 0.5547 - val_loss: 0.6921 - val_accuracy: 0.5292\n",
      "Epoch 60/100\n",
      "35/35 [==============================] - 0s 6ms/step - loss: 0.6825 - accuracy: 0.5436 - val_loss: 0.6909 - val_accuracy: 0.5328\n",
      "Epoch 61/100\n",
      "35/35 [==============================] - 0s 5ms/step - loss: 0.6702 - accuracy: 0.5656 - val_loss: 0.6896 - val_accuracy: 0.5365\n",
      "Epoch 62/100\n",
      "35/35 [==============================] - 0s 5ms/step - loss: 0.6750 - accuracy: 0.5337 - val_loss: 0.6884 - val_accuracy: 0.5401\n",
      "Epoch 63/100\n",
      "35/35 [==============================] - 0s 5ms/step - loss: 0.6703 - accuracy: 0.5736 - val_loss: 0.6872 - val_accuracy: 0.5438\n",
      "Epoch 64/100\n",
      "35/35 [==============================] - 0s 5ms/step - loss: 0.6664 - accuracy: 0.5824 - val_loss: 0.6859 - val_accuracy: 0.5511\n",
      "Epoch 65/100\n",
      "35/35 [==============================] - 0s 5ms/step - loss: 0.6862 - accuracy: 0.5410 - val_loss: 0.6847 - val_accuracy: 0.5584\n",
      "Epoch 66/100\n",
      "35/35 [==============================] - 0s 5ms/step - loss: 0.6712 - accuracy: 0.5660 - val_loss: 0.6835 - val_accuracy: 0.5511\n",
      "Epoch 67/100\n",
      "35/35 [==============================] - 0s 5ms/step - loss: 0.6692 - accuracy: 0.5568 - val_loss: 0.6824 - val_accuracy: 0.5547\n",
      "Epoch 68/100\n",
      "35/35 [==============================] - 0s 5ms/step - loss: 0.6734 - accuracy: 0.5872 - val_loss: 0.6812 - val_accuracy: 0.5547\n",
      "Epoch 69/100\n",
      "35/35 [==============================] - 0s 5ms/step - loss: 0.6690 - accuracy: 0.5816 - val_loss: 0.6800 - val_accuracy: 0.5547\n",
      "Epoch 70/100\n",
      "35/35 [==============================] - 0s 5ms/step - loss: 0.6814 - accuracy: 0.5696 - val_loss: 0.6788 - val_accuracy: 0.5620\n",
      "Epoch 71/100\n",
      "35/35 [==============================] - 0s 5ms/step - loss: 0.6649 - accuracy: 0.5704 - val_loss: 0.6777 - val_accuracy: 0.5657\n",
      "Epoch 72/100\n",
      "35/35 [==============================] - 0s 5ms/step - loss: 0.6578 - accuracy: 0.6148 - val_loss: 0.6765 - val_accuracy: 0.5693\n",
      "Epoch 73/100\n",
      "35/35 [==============================] - 0s 5ms/step - loss: 0.6668 - accuracy: 0.6011 - val_loss: 0.6754 - val_accuracy: 0.5766\n",
      "Epoch 74/100\n",
      "35/35 [==============================] - 0s 5ms/step - loss: 0.6442 - accuracy: 0.6218 - val_loss: 0.6743 - val_accuracy: 0.5766\n",
      "Epoch 75/100\n",
      "35/35 [==============================] - 0s 5ms/step - loss: 0.6580 - accuracy: 0.6005 - val_loss: 0.6731 - val_accuracy: 0.5839\n",
      "Epoch 76/100\n",
      "35/35 [==============================] - 0s 5ms/step - loss: 0.6466 - accuracy: 0.6558 - val_loss: 0.6720 - val_accuracy: 0.5839\n",
      "Epoch 77/100\n",
      "35/35 [==============================] - 0s 5ms/step - loss: 0.6687 - accuracy: 0.6059 - val_loss: 0.6709 - val_accuracy: 0.5876\n",
      "Epoch 78/100\n",
      "35/35 [==============================] - 0s 5ms/step - loss: 0.6507 - accuracy: 0.6239 - val_loss: 0.6698 - val_accuracy: 0.5912\n",
      "Epoch 79/100\n",
      "35/35 [==============================] - 0s 5ms/step - loss: 0.6538 - accuracy: 0.5992 - val_loss: 0.6687 - val_accuracy: 0.6022\n",
      "Epoch 80/100\n",
      "35/35 [==============================] - 0s 4ms/step - loss: 0.6610 - accuracy: 0.6069 - val_loss: 0.6676 - val_accuracy: 0.6095\n",
      "Epoch 81/100\n",
      "35/35 [==============================] - 0s 5ms/step - loss: 0.6504 - accuracy: 0.6267 - val_loss: 0.6664 - val_accuracy: 0.6131\n",
      "Epoch 82/100\n",
      "35/35 [==============================] - 0s 5ms/step - loss: 0.6429 - accuracy: 0.6396 - val_loss: 0.6654 - val_accuracy: 0.6204\n",
      "Epoch 83/100\n",
      "35/35 [==============================] - 0s 5ms/step - loss: 0.6410 - accuracy: 0.6358 - val_loss: 0.6643 - val_accuracy: 0.6241\n",
      "Epoch 84/100\n",
      "35/35 [==============================] - 0s 5ms/step - loss: 0.6459 - accuracy: 0.6282 - val_loss: 0.6632 - val_accuracy: 0.6241\n",
      "Epoch 85/100\n",
      "35/35 [==============================] - 0s 5ms/step - loss: 0.6512 - accuracy: 0.6239 - val_loss: 0.6621 - val_accuracy: 0.6241\n",
      "Epoch 86/100\n",
      "35/35 [==============================] - 0s 4ms/step - loss: 0.6594 - accuracy: 0.6236 - val_loss: 0.6610 - val_accuracy: 0.6314\n",
      "Epoch 87/100\n",
      "35/35 [==============================] - 0s 4ms/step - loss: 0.6488 - accuracy: 0.6593 - val_loss: 0.6600 - val_accuracy: 0.6314\n",
      "Epoch 88/100\n",
      "35/35 [==============================] - 0s 4ms/step - loss: 0.6410 - accuracy: 0.6514 - val_loss: 0.6589 - val_accuracy: 0.6350\n",
      "Epoch 89/100\n",
      "35/35 [==============================] - 0s 5ms/step - loss: 0.6397 - accuracy: 0.6315 - val_loss: 0.6579 - val_accuracy: 0.6350\n",
      "Epoch 90/100\n",
      "35/35 [==============================] - 0s 5ms/step - loss: 0.6494 - accuracy: 0.6146 - val_loss: 0.6569 - val_accuracy: 0.6387\n",
      "Epoch 91/100\n",
      "35/35 [==============================] - 0s 5ms/step - loss: 0.6372 - accuracy: 0.6397 - val_loss: 0.6558 - val_accuracy: 0.6387\n",
      "Epoch 92/100\n",
      "35/35 [==============================] - 0s 5ms/step - loss: 0.6331 - accuracy: 0.6580 - val_loss: 0.6548 - val_accuracy: 0.6423\n",
      "Epoch 93/100\n",
      "35/35 [==============================] - 0s 5ms/step - loss: 0.6350 - accuracy: 0.6626 - val_loss: 0.6538 - val_accuracy: 0.6460\n",
      "Epoch 94/100\n",
      "35/35 [==============================] - 0s 5ms/step - loss: 0.6384 - accuracy: 0.6943 - val_loss: 0.6527 - val_accuracy: 0.6460\n",
      "Epoch 95/100\n",
      "35/35 [==============================] - 0s 5ms/step - loss: 0.6267 - accuracy: 0.6828 - val_loss: 0.6517 - val_accuracy: 0.6460\n",
      "Epoch 96/100\n",
      "35/35 [==============================] - 0s 5ms/step - loss: 0.6521 - accuracy: 0.6380 - val_loss: 0.6507 - val_accuracy: 0.6460\n",
      "Epoch 97/100\n",
      "35/35 [==============================] - 0s 5ms/step - loss: 0.6430 - accuracy: 0.6621 - val_loss: 0.6497 - val_accuracy: 0.6460\n",
      "Epoch 98/100\n",
      "35/35 [==============================] - 0s 5ms/step - loss: 0.6344 - accuracy: 0.6883 - val_loss: 0.6487 - val_accuracy: 0.6496\n",
      "Epoch 99/100\n",
      "35/35 [==============================] - 0s 5ms/step - loss: 0.6347 - accuracy: 0.6554 - val_loss: 0.6477 - val_accuracy: 0.6496\n",
      "Epoch 100/100\n",
      "35/35 [==============================] - 0s 5ms/step - loss: 0.6227 - accuracy: 0.7077 - val_loss: 0.6467 - val_accuracy: 0.6496\n"
     ]
    }
   ],
   "source": [
    "model.compile(loss='binary_crossentropy', optimizer=opt, metrics=['accuracy'])\n",
    "history = model.fit(X_train,y_train,epochs=100,batch_size=24,validation_data=(X_valid,y_valid),verbose=1)"
   ]
  },
  {
   "cell_type": "code",
   "execution_count": 27,
   "id": "2255b63c-25b9-402d-8bb4-77c009e5295a",
   "metadata": {},
   "outputs": [
    {
     "data": {
      "image/png": "[encoded data removed]",
      "text/plain": [
       "<Figure size 1008x504 with 1 Axes>"
      ]
     },
     "metadata": {
      "needs_background": "light"
     },
     "output_type": "display_data"
    }
   ],
   "source": [
    "N=5\n",
    "fig,ax = plt.subplots(figsize=(14,7))\n",
    "acc_val = history.history['val_accuracy']\n",
    "acc_val = np.convolve(acc_val, np.ones(N)/N, mode='valid') # rolling mean of N\n",
    "acc_train = history.history['accuracy']\n",
    "acc_train = np.convolve(acc_train, np.ones(N)/N, mode='valid')\n",
    "ax.plot(acc_train,label='train')\n",
    "ax.plot(acc_val,label='valid')\n",
    "ax.legend()\n",
    "plt.show()"
   ]
  },
  {
   "cell_type": "markdown",
   "id": "6f9347f9-b510-4797-8286-d8112719eeee",
   "metadata": {},
   "source": [
    "### Keras tuner"
   ]
  },
  {
   "cell_type": "code",
   "execution_count": 28,
   "id": "420911c3-80b8-4efc-8c73-b34ce5797dc6",
   "metadata": {},
   "outputs": [],
   "source": [
    "def build_model(hp):\n",
    "    \n",
    "    lr_schedule = keras.optimizers.schedules.ExponentialDecay(\n",
    "    initial_learning_rate=1e-1,\n",
    "    decay_steps=10000,\n",
    "    decay_rate=0.9)\n",
    "\n",
    "    opt = keras.optimizers.Adam(learning_rate=lr_schedule)\n",
    "    \n",
    "    model = keras.Sequential()\n",
    "    model.add(keras.layers.Dense(\n",
    "      hp.Choice('units', [4,8, 16, 32]),\n",
    "      activation='relu',\n",
    "    input_shape=(10,)))\n",
    "    model.add(Dense(hp.Choice('units__', [16, 32]), activation='relu'))\n",
    "    model.add(Dense(1, activation='sigmoid'))\n",
    "    \n",
    "    \n",
    "    model.compile(loss='binary_crossentropy', optimizer=opt, metrics=['accuracy'])\n",
    "    \n",
    "    return model"
   ]
  },
  {
   "cell_type": "code",
   "execution_count": 29,
   "id": "63940693-1118-447e-bedd-580991f3a754",
   "metadata": {},
   "outputs": [
    {
     "name": "stdout",
     "output_type": "stream",
     "text": [
      "INFO:tensorflow:Reloading Oracle from existing project ../models/tuner/housing_price/oracle.json\n",
      "INFO:tensorflow:Reloading Tuner from ../models/tuner/housing_price/tuner0.json\n"
     ]
    }
   ],
   "source": [
    "tuner = kt.RandomSearch(\n",
    "    build_model,\n",
    "    objective='val_accuracy',\n",
    "    directory = '../models/tuner/',\n",
    "    project_name = 'housing_price',\n",
    "    max_trials=10)"
   ]
  },
  {
   "cell_type": "code",
   "execution_count": 30,
   "id": "ebc0d292-9c8e-4f8e-9dd8-026bbe683fb0",
   "metadata": {},
   "outputs": [
    {
     "name": "stdout",
     "output_type": "stream",
     "text": [
      "INFO:tensorflow:Oracle triggered exit\n"
     ]
    }
   ],
   "source": [
    "tuner.search(X_train, y_train, epochs=15, validation_data=(X_valid, y_valid))\n",
    "best_model = tuner.get_best_models()[0]"
   ]
  },
  {
   "cell_type": "code",
   "execution_count": 31,
   "id": "8e0ab0d1-2c36-4dca-a48e-5a8ffb072ebd",
   "metadata": {},
   "outputs": [
    {
     "name": "stdout",
     "output_type": "stream",
     "text": [
      "Model: \"sequential\"\n",
      "_________________________________________________________________\n",
      "Layer (type)                 Output Shape              Param #   \n",
      "=================================================================\n",
      "dense (Dense)                (None, 32)                352       \n",
      "_________________________________________________________________\n",
      "dense_1 (Dense)              (None, 16)                528       \n",
      "_________________________________________________________________\n",
      "dense_2 (Dense)              (None, 1)                 17        \n",
      "=================================================================\n",
      "Total params: 897\n",
      "Trainable params: 897\n",
      "Non-trainable params: 0\n",
      "_________________________________________________________________\n"
     ]
    }
   ],
   "source": [
    "best_model.summary()"
   ]
  },
  {
   "cell_type": "code",
   "execution_count": null,
   "id": "58603f2d-c216-4f8f-9d0b-d927aec953ba",
   "metadata": {},
   "outputs": [],
   "source": []
  }
 ],
 "metadata": {
  "kernelspec": {
   "display_name": "Python [conda env:ML_5]",
   "language": "python",
   "name": "conda-env-ML_5-py"
  },
  "language_info": {
   "codemirror_mode": {
    "name": "ipython",
    "version": 3
   },
   "file_extension": ".py",
   "mimetype": "text/x-python",
   "name": "python",
   "nbconvert_exporter": "python",
   "pygments_lexer": "ipython3",
   "version": "3.9.12"
  }
 },
 "nbformat": 4,
 "nbformat_minor": 5
}
