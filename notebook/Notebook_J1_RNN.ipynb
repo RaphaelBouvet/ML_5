{
 "cells": [
  {
   "cell_type": "markdown",
   "id": "afeb0612-f56f-4685-845f-7935bd9846de",
   "metadata": {},
   "source": [
    "# Imports"
   ]
  },
  {
   "cell_type": "markdown",
   "id": "16c71f49-5df6-4b51-89b2-def32c7299cf",
   "metadata": {},
   "source": [
    "## Import gen lib"
   ]
  },
  {
   "cell_type": "code",
   "execution_count": 1,
   "id": "77d9f8db-75c8-40a8-accc-0c72ca957e0a",
   "metadata": {},
   "outputs": [
    {
     "name": "stderr",
     "output_type": "stream",
     "text": [
      "2022-06-15 16:03:11.382729: I tensorflow/stream_executor/platform/default/dso_loader.cc:49] Successfully opened dynamic library libcudart.so.10.1\n"
     ]
    }
   ],
   "source": [
    "import pandas as pd\n",
    "import numpy as np\n",
    "import keras\n",
    "import tensorflow\n",
    "import matplotlib.pyplot as plt\n",
    "import keras_tuner as kt"
   ]
  },
  {
   "cell_type": "markdown",
   "id": "c8bd8400-e25a-4a81-98f9-5146e85b0bb6",
   "metadata": {
    "tags": []
   },
   "source": [
    "## imports sklearn"
   ]
  },
  {
   "cell_type": "code",
   "execution_count": 2,
   "id": "3602bc61-4971-468a-84cb-796c178011bb",
   "metadata": {},
   "outputs": [],
   "source": [
    "from sklearn.model_selection import train_test_split\n",
    "from sklearn.metrics import accuracy_score\n",
    "from sklearn.preprocessing import StandardScaler"
   ]
  },
  {
   "cell_type": "markdown",
   "id": "6a4cbcc7-f490-4099-9e28-1d9052994099",
   "metadata": {},
   "source": [
    "## imports keras"
   ]
  },
  {
   "cell_type": "code",
   "execution_count": 3,
   "id": "465b7224-fb43-4575-9b10-b1bb9320cdf0",
   "metadata": {},
   "outputs": [],
   "source": [
    "from keras.models import Sequential\n",
    "from keras.layers import Dense"
   ]
  },
  {
   "cell_type": "markdown",
   "id": "ae3d0758-f041-420f-91ce-c89fa4ff0a93",
   "metadata": {},
   "source": [
    "## Import data"
   ]
  },
  {
   "cell_type": "code",
   "execution_count": 4,
   "id": "7a20f91a-cba9-4d1e-be19-12b73bf088fe",
   "metadata": {},
   "outputs": [],
   "source": [
    "path_dataset = '../data/housepricedata.csv'"
   ]
  },
  {
   "cell_type": "code",
   "execution_count": 5,
   "id": "b417cde4-c4f1-40a5-aa80-ebc5eb8c499c",
   "metadata": {},
   "outputs": [],
   "source": [
    "df = pd.read_csv(path_dataset)"
   ]
  },
  {
   "cell_type": "code",
   "execution_count": 6,
   "id": "5d247416-49b2-462b-a732-a8c81b3774ff",
   "metadata": {},
   "outputs": [
    {
     "data": {
      "text/html": [
       "<div>\n",
       "<style scoped>\n",
       "    .dataframe tbody tr th:only-of-type {\n",
       "        vertical-align: middle;\n",
       "    }\n",
       "\n",
       "    .dataframe tbody tr th {\n",
       "        vertical-align: top;\n",
       "    }\n",
       "\n",
       "    .dataframe thead th {\n",
       "        text-align: right;\n",
       "    }\n",
       "</style>\n",
       "<table border=\"1\" class=\"dataframe\">\n",
       "  <thead>\n",
       "    <tr style=\"text-align: right;\">\n",
       "      <th></th>\n",
       "      <th>LotArea</th>\n",
       "      <th>OverallQual</th>\n",
       "      <th>OverallCond</th>\n",
       "      <th>TotalBsmtSF</th>\n",
       "      <th>FullBath</th>\n",
       "      <th>HalfBath</th>\n",
       "      <th>BedroomAbvGr</th>\n",
       "      <th>TotRmsAbvGrd</th>\n",
       "      <th>Fireplaces</th>\n",
       "      <th>GarageArea</th>\n",
       "      <th>AboveMedianPrice</th>\n",
       "    </tr>\n",
       "  </thead>\n",
       "  <tbody>\n",
       "    <tr>\n",
       "      <th>0</th>\n",
       "      <td>8450</td>\n",
       "      <td>7</td>\n",
       "      <td>5</td>\n",
       "      <td>856</td>\n",
       "      <td>2</td>\n",
       "      <td>1</td>\n",
       "      <td>3</td>\n",
       "      <td>8</td>\n",
       "      <td>0</td>\n",
       "      <td>548</td>\n",
       "      <td>1</td>\n",
       "    </tr>\n",
       "    <tr>\n",
       "      <th>1</th>\n",
       "      <td>9600</td>\n",
       "      <td>6</td>\n",
       "      <td>8</td>\n",
       "      <td>1262</td>\n",
       "      <td>2</td>\n",
       "      <td>0</td>\n",
       "      <td>3</td>\n",
       "      <td>6</td>\n",
       "      <td>1</td>\n",
       "      <td>460</td>\n",
       "      <td>1</td>\n",
       "    </tr>\n",
       "    <tr>\n",
       "      <th>2</th>\n",
       "      <td>11250</td>\n",
       "      <td>7</td>\n",
       "      <td>5</td>\n",
       "      <td>920</td>\n",
       "      <td>2</td>\n",
       "      <td>1</td>\n",
       "      <td>3</td>\n",
       "      <td>6</td>\n",
       "      <td>1</td>\n",
       "      <td>608</td>\n",
       "      <td>1</td>\n",
       "    </tr>\n",
       "    <tr>\n",
       "      <th>3</th>\n",
       "      <td>9550</td>\n",
       "      <td>7</td>\n",
       "      <td>5</td>\n",
       "      <td>756</td>\n",
       "      <td>1</td>\n",
       "      <td>0</td>\n",
       "      <td>3</td>\n",
       "      <td>7</td>\n",
       "      <td>1</td>\n",
       "      <td>642</td>\n",
       "      <td>0</td>\n",
       "    </tr>\n",
       "    <tr>\n",
       "      <th>4</th>\n",
       "      <td>14260</td>\n",
       "      <td>8</td>\n",
       "      <td>5</td>\n",
       "      <td>1145</td>\n",
       "      <td>2</td>\n",
       "      <td>1</td>\n",
       "      <td>4</td>\n",
       "      <td>9</td>\n",
       "      <td>1</td>\n",
       "      <td>836</td>\n",
       "      <td>1</td>\n",
       "    </tr>\n",
       "    <tr>\n",
       "      <th>...</th>\n",
       "      <td>...</td>\n",
       "      <td>...</td>\n",
       "      <td>...</td>\n",
       "      <td>...</td>\n",
       "      <td>...</td>\n",
       "      <td>...</td>\n",
       "      <td>...</td>\n",
       "      <td>...</td>\n",
       "      <td>...</td>\n",
       "      <td>...</td>\n",
       "      <td>...</td>\n",
       "    </tr>\n",
       "    <tr>\n",
       "      <th>1455</th>\n",
       "      <td>7917</td>\n",
       "      <td>6</td>\n",
       "      <td>5</td>\n",
       "      <td>953</td>\n",
       "      <td>2</td>\n",
       "      <td>1</td>\n",
       "      <td>3</td>\n",
       "      <td>7</td>\n",
       "      <td>1</td>\n",
       "      <td>460</td>\n",
       "      <td>1</td>\n",
       "    </tr>\n",
       "    <tr>\n",
       "      <th>1456</th>\n",
       "      <td>13175</td>\n",
       "      <td>6</td>\n",
       "      <td>6</td>\n",
       "      <td>1542</td>\n",
       "      <td>2</td>\n",
       "      <td>0</td>\n",
       "      <td>3</td>\n",
       "      <td>7</td>\n",
       "      <td>2</td>\n",
       "      <td>500</td>\n",
       "      <td>1</td>\n",
       "    </tr>\n",
       "    <tr>\n",
       "      <th>1457</th>\n",
       "      <td>9042</td>\n",
       "      <td>7</td>\n",
       "      <td>9</td>\n",
       "      <td>1152</td>\n",
       "      <td>2</td>\n",
       "      <td>0</td>\n",
       "      <td>4</td>\n",
       "      <td>9</td>\n",
       "      <td>2</td>\n",
       "      <td>252</td>\n",
       "      <td>1</td>\n",
       "    </tr>\n",
       "    <tr>\n",
       "      <th>1458</th>\n",
       "      <td>9717</td>\n",
       "      <td>5</td>\n",
       "      <td>6</td>\n",
       "      <td>1078</td>\n",
       "      <td>1</td>\n",
       "      <td>0</td>\n",
       "      <td>2</td>\n",
       "      <td>5</td>\n",
       "      <td>0</td>\n",
       "      <td>240</td>\n",
       "      <td>0</td>\n",
       "    </tr>\n",
       "    <tr>\n",
       "      <th>1459</th>\n",
       "      <td>9937</td>\n",
       "      <td>5</td>\n",
       "      <td>6</td>\n",
       "      <td>1256</td>\n",
       "      <td>1</td>\n",
       "      <td>1</td>\n",
       "      <td>3</td>\n",
       "      <td>6</td>\n",
       "      <td>0</td>\n",
       "      <td>276</td>\n",
       "      <td>0</td>\n",
       "    </tr>\n",
       "  </tbody>\n",
       "</table>\n",
       "<p>1460 rows × 11 columns</p>\n",
       "</div>"
      ],
      "text/plain": [
       "      LotArea  OverallQual  OverallCond  TotalBsmtSF  FullBath  HalfBath  \\\n",
       "0        8450            7            5          856         2         1   \n",
       "1        9600            6            8         1262         2         0   \n",
       "2       11250            7            5          920         2         1   \n",
       "3        9550            7            5          756         1         0   \n",
       "4       14260            8            5         1145         2         1   \n",
       "...       ...          ...          ...          ...       ...       ...   \n",
       "1455     7917            6            5          953         2         1   \n",
       "1456    13175            6            6         1542         2         0   \n",
       "1457     9042            7            9         1152         2         0   \n",
       "1458     9717            5            6         1078         1         0   \n",
       "1459     9937            5            6         1256         1         1   \n",
       "\n",
       "      BedroomAbvGr  TotRmsAbvGrd  Fireplaces  GarageArea  AboveMedianPrice  \n",
       "0                3             8           0         548                 1  \n",
       "1                3             6           1         460                 1  \n",
       "2                3             6           1         608                 1  \n",
       "3                3             7           1         642                 0  \n",
       "4                4             9           1         836                 1  \n",
       "...            ...           ...         ...         ...               ...  \n",
       "1455             3             7           1         460                 1  \n",
       "1456             3             7           2         500                 1  \n",
       "1457             4             9           2         252                 1  \n",
       "1458             2             5           0         240                 0  \n",
       "1459             3             6           0         276                 0  \n",
       "\n",
       "[1460 rows x 11 columns]"
      ]
     },
     "execution_count": 6,
     "metadata": {},
     "output_type": "execute_result"
    }
   ],
   "source": [
    "df"
   ]
  },
  {
   "cell_type": "markdown",
   "id": "59bced77-72c5-4374-ba03-416aab875953",
   "metadata": {},
   "source": [
    "# Visu"
   ]
  },
  {
   "cell_type": "code",
   "execution_count": 7,
   "id": "91036570-1bb1-4e2d-87a9-7fec99f06790",
   "metadata": {},
   "outputs": [
    {
     "data": {
      "text/plain": [
       "0    732\n",
       "1    728\n",
       "Name: AboveMedianPrice, dtype: int64"
      ]
     },
     "execution_count": 7,
     "metadata": {},
     "output_type": "execute_result"
    }
   ],
   "source": [
    "df.AboveMedianPrice.value_counts()"
   ]
  },
  {
   "cell_type": "markdown",
   "id": "a40fa6b2-6974-4106-ac60-dfeb0f502ea6",
   "metadata": {},
   "source": [
    "# Set up dataset for RNN"
   ]
  },
  {
   "cell_type": "markdown",
   "id": "a4c59630-d7f2-447d-ba87-2cb6fbffe8d3",
   "metadata": {},
   "source": [
    "## X and y"
   ]
  },
  {
   "cell_type": "code",
   "execution_count": 75,
   "id": "dc44093c-15ba-45eb-a6dd-b4391cb55c5e",
   "metadata": {},
   "outputs": [],
   "source": [
    "dataset = df.values\n",
    "X = dataset[:,0:10]\n",
    "y = dataset[:,10]"
   ]
  },
  {
   "cell_type": "markdown",
   "id": "2841359a-b4fd-44e8-9ca4-a46b53f1bf46",
   "metadata": {},
   "source": [
    "## train test split + validation set with validation"
   ]
  },
  {
   "cell_type": "code",
   "execution_count": 112,
   "id": "af4d6533-0d5a-440e-8406-bc02de63ff18",
   "metadata": {},
   "outputs": [],
   "source": [
    "X_train,X_test,y_train,y_test = train_test_split(X,y,stratify=y)"
   ]
  },
  {
   "cell_type": "code",
   "execution_count": 113,
   "id": "e08f316e-81be-4ad6-8d3f-cb2248fcd800",
   "metadata": {},
   "outputs": [],
   "source": [
    "scaler = StandardScaler()\n",
    "X_train_scaled = scaler.fit_transform(X_train)\n",
    "X_test_scaled = scaler.transform(X_test)"
   ]
  },
  {
   "cell_type": "code",
   "execution_count": 114,
   "id": "66b2dbf4-c9bc-4b67-84fd-5a6f0c9f30ac",
   "metadata": {},
   "outputs": [],
   "source": [
    "X_train,X_valid,y_train,y_valid = train_test_split(X_train_scaled,y_train,stratify=y_train)"
   ]
  },
  {
   "cell_type": "code",
   "execution_count": 115,
   "id": "5efa15f6-b950-42ef-b7b4-9711501899c0",
   "metadata": {},
   "outputs": [
    {
     "data": {
      "text/plain": [
       "(821, 10)"
      ]
     },
     "execution_count": 115,
     "metadata": {},
     "output_type": "execute_result"
    }
   ],
   "source": [
    "X_train.shape"
   ]
  },
  {
   "cell_type": "code",
   "execution_count": 116,
   "id": "17316d8b-f208-4f92-be95-47432ad75b6d",
   "metadata": {},
   "outputs": [
    {
     "data": {
      "text/plain": [
       "(821,)"
      ]
     },
     "execution_count": 116,
     "metadata": {},
     "output_type": "execute_result"
    }
   ],
   "source": [
    "y_train.shape"
   ]
  },
  {
   "cell_type": "markdown",
   "id": "073ca205-1880-40f3-9acf-8c7615ffbff8",
   "metadata": {},
   "source": [
    "# Keras model"
   ]
  },
  {
   "attachments": {
    "ex_rnn_keras.PNG": {
     "image/png": "[encoded data removed]"
    }
   },
   "cell_type": "markdown",
   "id": "42549825-2493-4bb7-b83b-efd116edb936",
   "metadata": {},
   "source": [
    "The first thing we have to do is to set up the architecture. Let’s first think about what kind of neural network architecture we want. Suppose we want this neural network:\n",
    "![ex_rnn_keras.PNG](attachment:ex_rnn_keras.PNG)\n",
    "In words, we want to have these layers:\n",
    "\n",
    "- Hidden layer 1: 12 neurons, ReLU activation\n",
    "- Hidden layer 2: 16 neurons, ReLU activation\n",
    "- Output Layer: 1 neuron, Sigmoid activation\n",
    "    \n",
    "Now, we need to describe this architecture to Keras. We will be using the Sequential model, which means that we merely need to describe the layers above in sequence."
   ]
  },
  {
   "cell_type": "code",
   "execution_count": 120,
   "id": "2037f770-148c-4e46-ae1c-654a35d0f112",
   "metadata": {},
   "outputs": [],
   "source": [
    "model = keras.Sequential(\n",
    "    [\n",
    "        Dense(12,activation='relu',name='layer1',input_shape=(10,)),# pas besoin d'input sequentiel le réalise de manière automatique\n",
    "        Dense(16,activation='relu',name='layer2'),\n",
    "        Dense(1,activation='sigmoid',name='output_layer'),\n",
    "    ]\n",
    ")"
   ]
  },
  {
   "cell_type": "code",
   "execution_count": 121,
   "id": "6ce3cd1d-c1f7-400a-b368-9a30b5eacb44",
   "metadata": {},
   "outputs": [],
   "source": [
    "lr_schedule = keras.optimizers.schedules.ExponentialDecay(\n",
    "    initial_learning_rate=1e-1,\n",
    "    decay_steps=10000,\n",
    "    decay_rate=0.9)\n",
    "\n",
    "opt = keras.optimizers.Adam(learning_rate=lr_schedule)"
   ]
  },
  {
   "cell_type": "code",
   "execution_count": 128,
   "id": "59cdf9c1-af99-48df-951f-74936ae848f6",
   "metadata": {},
   "outputs": [],
   "source": [
    "model.compile(loss='binary_crossentropy', optimizer=opt, metrics=['accuracy'])"
   ]
  },
  {
   "cell_type": "code",
   "execution_count": 129,
   "id": "d50d42e5-1a05-41b2-b228-cae1a2bb31e9",
   "metadata": {
    "scrolled": true,
    "tags": []
   },
   "outputs": [
    {
     "name": "stdout",
     "output_type": "stream",
     "text": [
      "Epoch 1/100\n",
      "35/35 [==============================] - 1s 9ms/step - loss: 0.5169 - accuracy: 0.8463 - val_loss: 0.3664 - val_accuracy: 0.8869\n",
      "Epoch 2/100\n",
      "35/35 [==============================] - 0s 5ms/step - loss: 0.2543 - accuracy: 0.8944 - val_loss: 0.3071 - val_accuracy: 0.8759\n",
      "Epoch 3/100\n",
      "35/35 [==============================] - 0s 5ms/step - loss: 0.2201 - accuracy: 0.9254 - val_loss: 0.3359 - val_accuracy: 0.8540\n",
      "Epoch 4/100\n",
      "35/35 [==============================] - 0s 5ms/step - loss: 0.2472 - accuracy: 0.9200 - val_loss: 0.3734 - val_accuracy: 0.8686\n",
      "Epoch 5/100\n",
      "35/35 [==============================] - 0s 5ms/step - loss: 0.2024 - accuracy: 0.9286 - val_loss: 0.4859 - val_accuracy: 0.8905\n",
      "Epoch 6/100\n",
      "35/35 [==============================] - 0s 4ms/step - loss: 0.2222 - accuracy: 0.9039 - val_loss: 0.3755 - val_accuracy: 0.9051\n",
      "Epoch 7/100\n",
      "35/35 [==============================] - 0s 4ms/step - loss: 0.2078 - accuracy: 0.9115 - val_loss: 0.3506 - val_accuracy: 0.8832\n",
      "Epoch 8/100\n",
      "35/35 [==============================] - 0s 4ms/step - loss: 0.2053 - accuracy: 0.9353 - val_loss: 0.4326 - val_accuracy: 0.8394\n",
      "Epoch 9/100\n",
      "35/35 [==============================] - 0s 5ms/step - loss: 0.2187 - accuracy: 0.9091 - val_loss: 0.3900 - val_accuracy: 0.9015\n",
      "Epoch 10/100\n",
      "35/35 [==============================] - 0s 5ms/step - loss: 0.2025 - accuracy: 0.9070 - val_loss: 0.3950 - val_accuracy: 0.8759\n",
      "Epoch 11/100\n",
      "35/35 [==============================] - 0s 5ms/step - loss: 0.1750 - accuracy: 0.9193 - val_loss: 0.3789 - val_accuracy: 0.8905\n",
      "Epoch 12/100\n",
      "35/35 [==============================] - 0s 5ms/step - loss: 0.1680 - accuracy: 0.9304 - val_loss: 0.4210 - val_accuracy: 0.8650\n",
      "Epoch 13/100\n",
      "35/35 [==============================] - 0s 5ms/step - loss: 0.1851 - accuracy: 0.9189 - val_loss: 0.3884 - val_accuracy: 0.8613\n",
      "Epoch 14/100\n",
      "35/35 [==============================] - 0s 5ms/step - loss: 0.2038 - accuracy: 0.9052 - val_loss: 0.4702 - val_accuracy: 0.8686\n",
      "Epoch 15/100\n",
      "35/35 [==============================] - 0s 4ms/step - loss: 0.1884 - accuracy: 0.9166 - val_loss: 0.3756 - val_accuracy: 0.8431\n",
      "Epoch 16/100\n",
      "35/35 [==============================] - 0s 4ms/step - loss: 0.1832 - accuracy: 0.9198 - val_loss: 0.3767 - val_accuracy: 0.8796\n",
      "Epoch 17/100\n",
      "35/35 [==============================] - 0s 5ms/step - loss: 0.1929 - accuracy: 0.9184 - val_loss: 0.6677 - val_accuracy: 0.8759\n",
      "Epoch 18/100\n",
      "35/35 [==============================] - 0s 5ms/step - loss: 0.1630 - accuracy: 0.9300 - val_loss: 0.3991 - val_accuracy: 0.8723\n",
      "Epoch 19/100\n",
      "35/35 [==============================] - 0s 5ms/step - loss: 0.1818 - accuracy: 0.8964 - val_loss: 0.4714 - val_accuracy: 0.8942\n",
      "Epoch 20/100\n",
      "35/35 [==============================] - 0s 5ms/step - loss: 0.1586 - accuracy: 0.9148 - val_loss: 0.4856 - val_accuracy: 0.8942\n",
      "Epoch 21/100\n",
      "35/35 [==============================] - 0s 4ms/step - loss: 0.1710 - accuracy: 0.9278 - val_loss: 0.4410 - val_accuracy: 0.9015\n",
      "Epoch 22/100\n",
      "35/35 [==============================] - 0s 4ms/step - loss: 0.1551 - accuracy: 0.9296 - val_loss: 0.4886 - val_accuracy: 0.8905\n",
      "Epoch 23/100\n",
      "35/35 [==============================] - 0s 4ms/step - loss: 0.1451 - accuracy: 0.9416 - val_loss: 0.5241 - val_accuracy: 0.8650\n",
      "Epoch 24/100\n",
      "35/35 [==============================] - 0s 4ms/step - loss: 0.1660 - accuracy: 0.9218 - val_loss: 0.3495 - val_accuracy: 0.8942\n",
      "Epoch 25/100\n",
      "35/35 [==============================] - 0s 4ms/step - loss: 0.1624 - accuracy: 0.9187 - val_loss: 0.3244 - val_accuracy: 0.8832\n",
      "Epoch 26/100\n",
      "35/35 [==============================] - 0s 4ms/step - loss: 0.2188 - accuracy: 0.9078 - val_loss: 0.3221 - val_accuracy: 0.8978\n",
      "Epoch 27/100\n",
      "35/35 [==============================] - 0s 5ms/step - loss: 0.1554 - accuracy: 0.9391 - val_loss: 0.3660 - val_accuracy: 0.8869\n",
      "Epoch 28/100\n",
      "35/35 [==============================] - 0s 4ms/step - loss: 0.1805 - accuracy: 0.9194 - val_loss: 0.5192 - val_accuracy: 0.8358\n",
      "Epoch 29/100\n",
      "35/35 [==============================] - 0s 5ms/step - loss: 0.2535 - accuracy: 0.8682 - val_loss: 0.4094 - val_accuracy: 0.8869\n",
      "Epoch 30/100\n",
      "35/35 [==============================] - 0s 4ms/step - loss: 0.2355 - accuracy: 0.8955 - val_loss: 0.3584 - val_accuracy: 0.8796\n",
      "Epoch 31/100\n",
      "35/35 [==============================] - 0s 4ms/step - loss: 0.2472 - accuracy: 0.9066 - val_loss: 0.4913 - val_accuracy: 0.8650\n",
      "Epoch 32/100\n",
      "35/35 [==============================] - 0s 4ms/step - loss: 0.2235 - accuracy: 0.9030 - val_loss: 0.8823 - val_accuracy: 0.9015\n",
      "Epoch 33/100\n",
      "35/35 [==============================] - 0s 4ms/step - loss: 0.1719 - accuracy: 0.9271 - val_loss: 0.5278 - val_accuracy: 0.8942\n",
      "Epoch 34/100\n",
      "35/35 [==============================] - 0s 5ms/step - loss: 0.1749 - accuracy: 0.9208 - val_loss: 0.7437 - val_accuracy: 0.8540\n",
      "Epoch 35/100\n",
      "35/35 [==============================] - 0s 4ms/step - loss: 0.1738 - accuracy: 0.9334 - val_loss: 1.1047 - val_accuracy: 0.8796\n",
      "Epoch 36/100\n",
      "35/35 [==============================] - 0s 4ms/step - loss: 0.1837 - accuracy: 0.9179 - val_loss: 0.7207 - val_accuracy: 0.8759\n",
      "Epoch 37/100\n",
      "35/35 [==============================] - 0s 4ms/step - loss: 0.1797 - accuracy: 0.8936 - val_loss: 0.8428 - val_accuracy: 0.8759\n",
      "Epoch 38/100\n",
      "35/35 [==============================] - 0s 4ms/step - loss: 0.2232 - accuracy: 0.9149 - val_loss: 1.0115 - val_accuracy: 0.8723\n",
      "Epoch 39/100\n",
      "35/35 [==============================] - 0s 5ms/step - loss: 0.1575 - accuracy: 0.9337 - val_loss: 0.8599 - val_accuracy: 0.8905\n",
      "Epoch 40/100\n",
      "35/35 [==============================] - 0s 4ms/step - loss: 0.1497 - accuracy: 0.9239 - val_loss: 1.1179 - val_accuracy: 0.8723\n",
      "Epoch 41/100\n",
      "35/35 [==============================] - 0s 5ms/step - loss: 0.1887 - accuracy: 0.9266 - val_loss: 0.5215 - val_accuracy: 0.8869\n",
      "Epoch 42/100\n",
      "35/35 [==============================] - 0s 5ms/step - loss: 0.2044 - accuracy: 0.9188 - val_loss: 0.6162 - val_accuracy: 0.8650\n",
      "Epoch 43/100\n",
      "35/35 [==============================] - 0s 4ms/step - loss: 0.2564 - accuracy: 0.9238 - val_loss: 1.2419 - val_accuracy: 0.8759\n",
      "Epoch 44/100\n",
      "35/35 [==============================] - 0s 5ms/step - loss: 0.1315 - accuracy: 0.9361 - val_loss: 1.1002 - val_accuracy: 0.8613\n",
      "Epoch 45/100\n",
      "35/35 [==============================] - 0s 5ms/step - loss: 0.1827 - accuracy: 0.8838 - val_loss: 0.8696 - val_accuracy: 0.8723\n",
      "Epoch 46/100\n",
      "35/35 [==============================] - 0s 5ms/step - loss: 0.1590 - accuracy: 0.9184 - val_loss: 1.1188 - val_accuracy: 0.8540\n",
      "Epoch 47/100\n",
      "35/35 [==============================] - 0s 5ms/step - loss: 0.1532 - accuracy: 0.9261 - val_loss: 1.2303 - val_accuracy: 0.8832\n",
      "Epoch 48/100\n",
      "35/35 [==============================] - 0s 5ms/step - loss: 0.1654 - accuracy: 0.9221 - val_loss: 1.1527 - val_accuracy: 0.8577\n",
      "Epoch 49/100\n",
      "35/35 [==============================] - 0s 5ms/step - loss: 0.1568 - accuracy: 0.9139 - val_loss: 1.4608 - val_accuracy: 0.8723\n",
      "Epoch 50/100\n",
      "35/35 [==============================] - 0s 4ms/step - loss: 0.1162 - accuracy: 0.9412 - val_loss: 1.4532 - val_accuracy: 0.8796\n",
      "Epoch 51/100\n",
      "35/35 [==============================] - 0s 4ms/step - loss: 0.1377 - accuracy: 0.9322 - val_loss: 1.3822 - val_accuracy: 0.8942\n",
      "Epoch 52/100\n",
      "35/35 [==============================] - 0s 5ms/step - loss: 0.1401 - accuracy: 0.9405 - val_loss: 1.6986 - val_accuracy: 0.8686\n",
      "Epoch 53/100\n",
      "35/35 [==============================] - 0s 4ms/step - loss: 0.3039 - accuracy: 0.9254 - val_loss: 0.9448 - val_accuracy: 0.8613\n",
      "Epoch 54/100\n",
      "35/35 [==============================] - 0s 5ms/step - loss: 0.2509 - accuracy: 0.9263 - val_loss: 1.3017 - val_accuracy: 0.8650\n",
      "Epoch 55/100\n",
      "35/35 [==============================] - 0s 4ms/step - loss: 0.2528 - accuracy: 0.9032 - val_loss: 0.5221 - val_accuracy: 0.8796\n",
      "Epoch 56/100\n",
      "35/35 [==============================] - 0s 5ms/step - loss: 0.2326 - accuracy: 0.9350 - val_loss: 1.0000 - val_accuracy: 0.8869\n",
      "Epoch 57/100\n",
      "35/35 [==============================] - 0s 5ms/step - loss: 0.2320 - accuracy: 0.9133 - val_loss: 0.8305 - val_accuracy: 0.8504\n",
      "Epoch 58/100\n",
      "35/35 [==============================] - 0s 4ms/step - loss: 0.2795 - accuracy: 0.9071 - val_loss: 2.6690 - val_accuracy: 0.8613\n",
      "Epoch 59/100\n",
      "35/35 [==============================] - 0s 4ms/step - loss: 0.2531 - accuracy: 0.8981 - val_loss: 0.7496 - val_accuracy: 0.8796\n",
      "Epoch 60/100\n",
      "35/35 [==============================] - 0s 5ms/step - loss: 0.2091 - accuracy: 0.9257 - val_loss: 0.5447 - val_accuracy: 0.8686\n",
      "Epoch 61/100\n",
      "35/35 [==============================] - 0s 5ms/step - loss: 0.2138 - accuracy: 0.9244 - val_loss: 0.9165 - val_accuracy: 0.8905\n",
      "Epoch 62/100\n",
      "35/35 [==============================] - 0s 5ms/step - loss: 0.2090 - accuracy: 0.9300 - val_loss: 0.9726 - val_accuracy: 0.9015\n",
      "Epoch 63/100\n",
      "35/35 [==============================] - 0s 4ms/step - loss: 0.2154 - accuracy: 0.9270 - val_loss: 1.0498 - val_accuracy: 0.8796\n",
      "Epoch 64/100\n",
      "35/35 [==============================] - 0s 4ms/step - loss: 0.1822 - accuracy: 0.9367 - val_loss: 0.7671 - val_accuracy: 0.8394\n",
      "Epoch 65/100\n",
      "35/35 [==============================] - 0s 4ms/step - loss: 0.2070 - accuracy: 0.9307 - val_loss: 1.0601 - val_accuracy: 0.8869\n",
      "Epoch 66/100\n",
      "35/35 [==============================] - 0s 5ms/step - loss: 0.1776 - accuracy: 0.9377 - val_loss: 1.2018 - val_accuracy: 0.8796\n",
      "Epoch 67/100\n",
      "35/35 [==============================] - 0s 4ms/step - loss: 0.1626 - accuracy: 0.9435 - val_loss: 1.4695 - val_accuracy: 0.8832\n",
      "Epoch 68/100\n",
      "35/35 [==============================] - 0s 5ms/step - loss: 0.1525 - accuracy: 0.9495 - val_loss: 1.2949 - val_accuracy: 0.8905\n",
      "Epoch 69/100\n",
      "35/35 [==============================] - 0s 4ms/step - loss: 0.2044 - accuracy: 0.9258 - val_loss: 1.3055 - val_accuracy: 0.8869\n",
      "Epoch 70/100\n",
      "35/35 [==============================] - 0s 4ms/step - loss: 0.1852 - accuracy: 0.9321 - val_loss: 0.5141 - val_accuracy: 0.8577\n",
      "Epoch 71/100\n",
      "35/35 [==============================] - 0s 5ms/step - loss: 0.1818 - accuracy: 0.9309 - val_loss: 2.2290 - val_accuracy: 0.8796\n",
      "Epoch 72/100\n",
      "35/35 [==============================] - 0s 5ms/step - loss: 0.2203 - accuracy: 0.9264 - val_loss: 2.0136 - val_accuracy: 0.8869\n",
      "Epoch 73/100\n",
      "35/35 [==============================] - 0s 4ms/step - loss: 0.1725 - accuracy: 0.9363 - val_loss: 1.5100 - val_accuracy: 0.8796\n",
      "Epoch 74/100\n",
      "35/35 [==============================] - 0s 4ms/step - loss: 0.1572 - accuracy: 0.9405 - val_loss: 1.5973 - val_accuracy: 0.8978\n",
      "Epoch 75/100\n",
      "35/35 [==============================] - 0s 5ms/step - loss: 0.1405 - accuracy: 0.9448 - val_loss: 1.3973 - val_accuracy: 0.8942\n",
      "Epoch 76/100\n",
      "35/35 [==============================] - 0s 5ms/step - loss: 0.1628 - accuracy: 0.9369 - val_loss: 1.4987 - val_accuracy: 0.8869\n",
      "Epoch 77/100\n",
      "35/35 [==============================] - 0s 5ms/step - loss: 0.1900 - accuracy: 0.9291 - val_loss: 1.6173 - val_accuracy: 0.8905\n",
      "Epoch 78/100\n",
      "35/35 [==============================] - 0s 5ms/step - loss: 0.1459 - accuracy: 0.9495 - val_loss: 2.2916 - val_accuracy: 0.8942\n",
      "Epoch 79/100\n",
      "35/35 [==============================] - 0s 5ms/step - loss: 0.1569 - accuracy: 0.9447 - val_loss: 1.8881 - val_accuracy: 0.8905\n",
      "Epoch 80/100\n",
      "35/35 [==============================] - 0s 4ms/step - loss: 0.1667 - accuracy: 0.9376 - val_loss: 1.7870 - val_accuracy: 0.8796\n",
      "Epoch 81/100\n",
      "35/35 [==============================] - 0s 4ms/step - loss: 0.1725 - accuracy: 0.9390 - val_loss: 1.5519 - val_accuracy: 0.8796\n",
      "Epoch 82/100\n",
      "35/35 [==============================] - 0s 4ms/step - loss: 0.1467 - accuracy: 0.9447 - val_loss: 1.2412 - val_accuracy: 0.8905\n",
      "Epoch 83/100\n",
      "35/35 [==============================] - 0s 4ms/step - loss: 0.1338 - accuracy: 0.9450 - val_loss: 1.2682 - val_accuracy: 0.8796\n",
      "Epoch 84/100\n",
      "35/35 [==============================] - 0s 5ms/step - loss: 0.1591 - accuracy: 0.9368 - val_loss: 1.3998 - val_accuracy: 0.8869\n",
      "Epoch 85/100\n",
      "35/35 [==============================] - 0s 5ms/step - loss: 0.1254 - accuracy: 0.9529 - val_loss: 1.3993 - val_accuracy: 0.8905\n",
      "Epoch 86/100\n",
      "35/35 [==============================] - 0s 5ms/step - loss: 0.1386 - accuracy: 0.9512 - val_loss: 1.2348 - val_accuracy: 0.8942\n",
      "Epoch 87/100\n",
      "35/35 [==============================] - 0s 5ms/step - loss: 0.1416 - accuracy: 0.9418 - val_loss: 2.6636 - val_accuracy: 0.8796\n",
      "Epoch 88/100\n",
      "35/35 [==============================] - 0s 4ms/step - loss: 0.1710 - accuracy: 0.9236 - val_loss: 1.2566 - val_accuracy: 0.8723\n",
      "Epoch 89/100\n",
      "35/35 [==============================] - 0s 5ms/step - loss: 0.1843 - accuracy: 0.9187 - val_loss: 0.8248 - val_accuracy: 0.8832\n",
      "Epoch 90/100\n",
      "35/35 [==============================] - 0s 5ms/step - loss: 0.2295 - accuracy: 0.9177 - val_loss: 0.9880 - val_accuracy: 0.8905\n",
      "Epoch 91/100\n",
      "35/35 [==============================] - 0s 4ms/step - loss: 0.1703 - accuracy: 0.9210 - val_loss: 0.9904 - val_accuracy: 0.8759\n",
      "Epoch 92/100\n",
      "35/35 [==============================] - 0s 5ms/step - loss: 0.1748 - accuracy: 0.9175 - val_loss: 1.3163 - val_accuracy: 0.8832\n",
      "Epoch 93/100\n",
      "35/35 [==============================] - 0s 4ms/step - loss: 0.1685 - accuracy: 0.9316 - val_loss: 0.8639 - val_accuracy: 0.8723\n",
      "Epoch 94/100\n",
      "35/35 [==============================] - 0s 5ms/step - loss: 0.1548 - accuracy: 0.9304 - val_loss: 1.1362 - val_accuracy: 0.8942\n",
      "Epoch 95/100\n",
      "35/35 [==============================] - 0s 5ms/step - loss: 0.1669 - accuracy: 0.9316 - val_loss: 1.0397 - val_accuracy: 0.8832\n",
      "Epoch 96/100\n",
      "35/35 [==============================] - 0s 5ms/step - loss: 0.1758 - accuracy: 0.9401 - val_loss: 1.5143 - val_accuracy: 0.8796\n",
      "Epoch 97/100\n",
      "35/35 [==============================] - 0s 5ms/step - loss: 0.1365 - accuracy: 0.9433 - val_loss: 0.8910 - val_accuracy: 0.8905\n",
      "Epoch 98/100\n",
      "35/35 [==============================] - 0s 4ms/step - loss: 0.1469 - accuracy: 0.9393 - val_loss: 0.7688 - val_accuracy: 0.8796\n",
      "Epoch 99/100\n",
      "35/35 [==============================] - 0s 5ms/step - loss: 0.1466 - accuracy: 0.9382 - val_loss: 0.6739 - val_accuracy: 0.8759\n",
      "Epoch 100/100\n",
      "35/35 [==============================] - 0s 5ms/step - loss: 0.1591 - accuracy: 0.9293 - val_loss: 1.0246 - val_accuracy: 0.8796\n"
     ]
    }
   ],
   "source": [
    "history = model.fit(X_train,y_train,epochs=100,batch_size=24,validation_data=(X_valid,y_valid),verbose=1)"
   ]
  },
  {
   "cell_type": "code",
   "execution_count": 130,
   "id": "36a4999d-6bdb-48a0-90bb-8a517366ed23",
   "metadata": {},
   "outputs": [
    {
     "name": "stdout",
     "output_type": "stream",
     "text": [
      "Model: \"sequential_8\"\n",
      "_________________________________________________________________\n",
      "Layer (type)                 Output Shape              Param #   \n",
      "=================================================================\n",
      "layer1 (Dense)               (None, 12)                132       \n",
      "_________________________________________________________________\n",
      "layer2 (Dense)               (None, 16)                208       \n",
      "_________________________________________________________________\n",
      "output_layer (Dense)         (None, 1)                 17        \n",
      "=================================================================\n",
      "Total params: 357\n",
      "Trainable params: 357\n",
      "Non-trainable params: 0\n",
      "_________________________________________________________________\n"
     ]
    }
   ],
   "source": [
    "model.summary()"
   ]
  },
  {
   "cell_type": "code",
   "execution_count": 131,
   "id": "0f1b86e9-3dbc-4d45-9682-6f76781c2684",
   "metadata": {},
   "outputs": [
    {
     "data": {
      "text/plain": [
       "dict_keys(['loss', 'accuracy', 'val_loss', 'val_accuracy'])"
      ]
     },
     "execution_count": 131,
     "metadata": {},
     "output_type": "execute_result"
    }
   ],
   "source": [
    "history.history.keys()"
   ]
  },
  {
   "cell_type": "code",
   "execution_count": 132,
   "id": "655b5e89-ed53-46fa-9724-d49d631565b1",
   "metadata": {},
   "outputs": [
    {
     "data": {
      "image/png": "[encoded data removed]",
      "text/plain": [
       "<Figure size 1008x504 with 1 Axes>"
      ]
     },
     "metadata": {
      "needs_background": "light"
     },
     "output_type": "display_data"
    }
   ],
   "source": [
    "N=5\n",
    "fig,ax = plt.subplots(figsize=(14,7))\n",
    "acc_val = history.history['val_accuracy']\n",
    "acc_val = np.convolve(acc_val, np.ones(N)/N, mode='valid') # rolling mean of N\n",
    "acc_train = history.history['accuracy']\n",
    "acc_train = np.convolve(acc_train, np.ones(N)/N, mode='valid')\n",
    "ax.plot(acc_train,label='train')\n",
    "ax.plot(acc_val,label='valid')\n",
    "ax.legend()\n",
    "plt.show()"
   ]
  },
  {
   "cell_type": "code",
   "execution_count": 133,
   "id": "df182108-1165-4120-a6b0-41cbcf2bf0c9",
   "metadata": {},
   "outputs": [],
   "source": [
    "pred  = model.predict(X_test_scaled)"
   ]
  },
  {
   "cell_type": "code",
   "execution_count": 134,
   "id": "2f5875ea-6177-49fe-a69e-889db904b76e",
   "metadata": {},
   "outputs": [],
   "source": [
    "pred[pred > 0.5] = 1\n",
    "pred[pred < 0.5] = 0"
   ]
  },
  {
   "cell_type": "code",
   "execution_count": 135,
   "id": "a22c590a-7918-4b99-8353-afb19b7068b0",
   "metadata": {},
   "outputs": [
    {
     "data": {
      "text/plain": [
       "0.8876712328767123"
      ]
     },
     "execution_count": 135,
     "metadata": {},
     "output_type": "execute_result"
    }
   ],
   "source": [
    "accuracy_score(y_test,pred)"
   ]
  },
  {
   "cell_type": "markdown",
   "id": "22051054-f120-4a3a-a050-de3e0c23ea08",
   "metadata": {},
   "source": [
    "### Compare with original compile and parameters"
   ]
  },
  {
   "cell_type": "code",
   "execution_count": 93,
   "id": "8f29d91d-1885-45f0-9105-52ca33a3b8d6",
   "metadata": {},
   "outputs": [],
   "source": [
    "model = keras.Sequential(\n",
    "    [\n",
    "        Dense(12,activation='relu',name='layer1',input_shape=(10,)),\n",
    "        Dense(16,activation='relu',name='layer2'),\n",
    "        Dense(1,activation='sigmoid',name='output_layer'),\n",
    "    ]\n",
    ")"
   ]
  },
  {
   "cell_type": "code",
   "execution_count": 94,
   "id": "28757d6b-0dc3-4f58-8311-867e1ffb031b",
   "metadata": {},
   "outputs": [],
   "source": [
    "opt = keras.optimizers.SGD(learning_rate=0.0001,momentum=0.5)"
   ]
  },
  {
   "cell_type": "code",
   "execution_count": 95,
   "id": "82fa9b44-706b-419d-8bbd-a28e83693cf3",
   "metadata": {
    "scrolled": true,
    "tags": []
   },
   "outputs": [
    {
     "name": "stdout",
     "output_type": "stream",
     "text": [
      "Epoch 1/100\n",
      "35/35 [==============================] - 1s 9ms/step - loss: 0.6823 - accuracy: 0.5354 - val_loss: 0.6748 - val_accuracy: 0.5620\n",
      "Epoch 2/100\n",
      "35/35 [==============================] - 0s 5ms/step - loss: 0.6683 - accuracy: 0.5873 - val_loss: 0.6741 - val_accuracy: 0.5657\n",
      "Epoch 3/100\n",
      "35/35 [==============================] - 0s 5ms/step - loss: 0.6716 - accuracy: 0.5776 - val_loss: 0.6733 - val_accuracy: 0.5693\n",
      "Epoch 4/100\n",
      "35/35 [==============================] - 0s 4ms/step - loss: 0.6800 - accuracy: 0.5801 - val_loss: 0.6726 - val_accuracy: 0.5693\n",
      "Epoch 5/100\n",
      "35/35 [==============================] - 0s 5ms/step - loss: 0.6766 - accuracy: 0.5576 - val_loss: 0.6719 - val_accuracy: 0.5766\n",
      "Epoch 6/100\n",
      "35/35 [==============================] - 0s 4ms/step - loss: 0.6808 - accuracy: 0.5604 - val_loss: 0.6712 - val_accuracy: 0.5803\n",
      "Epoch 7/100\n",
      "35/35 [==============================] - 0s 4ms/step - loss: 0.6685 - accuracy: 0.5731 - val_loss: 0.6704 - val_accuracy: 0.5839\n",
      "Epoch 8/100\n",
      "35/35 [==============================] - 0s 4ms/step - loss: 0.6723 - accuracy: 0.5799 - val_loss: 0.6697 - val_accuracy: 0.5839\n",
      "Epoch 9/100\n",
      "35/35 [==============================] - 0s 4ms/step - loss: 0.6770 - accuracy: 0.5906 - val_loss: 0.6690 - val_accuracy: 0.5876\n",
      "Epoch 10/100\n",
      "35/35 [==============================] - 0s 4ms/step - loss: 0.6748 - accuracy: 0.5747 - val_loss: 0.6683 - val_accuracy: 0.5949\n",
      "Epoch 11/100\n",
      "35/35 [==============================] - 0s 4ms/step - loss: 0.6698 - accuracy: 0.6201 - val_loss: 0.6676 - val_accuracy: 0.6058\n",
      "Epoch 12/100\n",
      "35/35 [==============================] - 0s 5ms/step - loss: 0.6889 - accuracy: 0.5622 - val_loss: 0.6669 - val_accuracy: 0.6095\n",
      "Epoch 13/100\n",
      "35/35 [==============================] - 0s 4ms/step - loss: 0.6759 - accuracy: 0.6014 - val_loss: 0.6662 - val_accuracy: 0.6095\n",
      "Epoch 14/100\n",
      "35/35 [==============================] - 0s 5ms/step - loss: 0.6627 - accuracy: 0.6292 - val_loss: 0.6655 - val_accuracy: 0.6131\n",
      "Epoch 15/100\n",
      "35/35 [==============================] - 0s 5ms/step - loss: 0.6650 - accuracy: 0.6178 - val_loss: 0.6648 - val_accuracy: 0.6131\n",
      "Epoch 16/100\n",
      "35/35 [==============================] - 0s 5ms/step - loss: 0.6653 - accuracy: 0.6171 - val_loss: 0.6641 - val_accuracy: 0.6168\n",
      "Epoch 17/100\n",
      "35/35 [==============================] - 0s 4ms/step - loss: 0.6634 - accuracy: 0.6283 - val_loss: 0.6635 - val_accuracy: 0.6204\n",
      "Epoch 18/100\n",
      "35/35 [==============================] - 0s 4ms/step - loss: 0.6712 - accuracy: 0.6027 - val_loss: 0.6628 - val_accuracy: 0.6204\n",
      "Epoch 19/100\n",
      "35/35 [==============================] - 0s 4ms/step - loss: 0.6720 - accuracy: 0.6043 - val_loss: 0.6621 - val_accuracy: 0.6277\n",
      "Epoch 20/100\n",
      "35/35 [==============================] - 0s 5ms/step - loss: 0.6628 - accuracy: 0.6210 - val_loss: 0.6615 - val_accuracy: 0.6314\n",
      "Epoch 21/100\n",
      "35/35 [==============================] - 0s 5ms/step - loss: 0.6594 - accuracy: 0.6368 - val_loss: 0.6608 - val_accuracy: 0.6387\n",
      "Epoch 22/100\n",
      "35/35 [==============================] - 0s 5ms/step - loss: 0.6652 - accuracy: 0.6054 - val_loss: 0.6601 - val_accuracy: 0.6387\n",
      "Epoch 23/100\n",
      "35/35 [==============================] - 0s 4ms/step - loss: 0.6693 - accuracy: 0.5925 - val_loss: 0.6595 - val_accuracy: 0.6460\n",
      "Epoch 24/100\n",
      "35/35 [==============================] - 0s 4ms/step - loss: 0.6646 - accuracy: 0.6051 - val_loss: 0.6588 - val_accuracy: 0.6496\n",
      "Epoch 25/100\n",
      "35/35 [==============================] - 0s 4ms/step - loss: 0.6705 - accuracy: 0.5813 - val_loss: 0.6582 - val_accuracy: 0.6533\n",
      "Epoch 26/100\n",
      "35/35 [==============================] - 0s 4ms/step - loss: 0.6670 - accuracy: 0.6085 - val_loss: 0.6575 - val_accuracy: 0.6533\n",
      "Epoch 27/100\n",
      "35/35 [==============================] - 0s 5ms/step - loss: 0.6512 - accuracy: 0.6296 - val_loss: 0.6569 - val_accuracy: 0.6569\n",
      "Epoch 28/100\n",
      "35/35 [==============================] - 0s 5ms/step - loss: 0.6597 - accuracy: 0.6198 - val_loss: 0.6563 - val_accuracy: 0.6606\n",
      "Epoch 29/100\n",
      "35/35 [==============================] - 0s 4ms/step - loss: 0.6638 - accuracy: 0.6362 - val_loss: 0.6556 - val_accuracy: 0.6679\n",
      "Epoch 30/100\n",
      "35/35 [==============================] - 0s 4ms/step - loss: 0.6621 - accuracy: 0.6415 - val_loss: 0.6550 - val_accuracy: 0.6679\n",
      "Epoch 31/100\n",
      "35/35 [==============================] - 0s 5ms/step - loss: 0.6585 - accuracy: 0.6360 - val_loss: 0.6544 - val_accuracy: 0.6679\n",
      "Epoch 32/100\n",
      "35/35 [==============================] - 0s 4ms/step - loss: 0.6536 - accuracy: 0.6603 - val_loss: 0.6538 - val_accuracy: 0.6752\n",
      "Epoch 33/100\n",
      "35/35 [==============================] - 0s 5ms/step - loss: 0.6533 - accuracy: 0.6480 - val_loss: 0.6532 - val_accuracy: 0.6752\n",
      "Epoch 34/100\n",
      "35/35 [==============================] - 0s 5ms/step - loss: 0.6598 - accuracy: 0.6357 - val_loss: 0.6525 - val_accuracy: 0.6788\n",
      "Epoch 35/100\n",
      "35/35 [==============================] - 0s 5ms/step - loss: 0.6620 - accuracy: 0.6239 - val_loss: 0.6519 - val_accuracy: 0.6788\n",
      "Epoch 36/100\n",
      "35/35 [==============================] - 0s 5ms/step - loss: 0.6545 - accuracy: 0.6773 - val_loss: 0.6513 - val_accuracy: 0.6788\n",
      "Epoch 37/100\n",
      "35/35 [==============================] - 0s 5ms/step - loss: 0.6496 - accuracy: 0.6818 - val_loss: 0.6507 - val_accuracy: 0.6752\n",
      "Epoch 38/100\n",
      "35/35 [==============================] - 0s 4ms/step - loss: 0.6559 - accuracy: 0.6651 - val_loss: 0.6501 - val_accuracy: 0.6715\n",
      "Epoch 39/100\n",
      "35/35 [==============================] - 0s 5ms/step - loss: 0.6541 - accuracy: 0.6768 - val_loss: 0.6495 - val_accuracy: 0.6752\n",
      "Epoch 40/100\n",
      "35/35 [==============================] - 0s 5ms/step - loss: 0.6587 - accuracy: 0.6471 - val_loss: 0.6489 - val_accuracy: 0.6715\n",
      "Epoch 41/100\n",
      "35/35 [==============================] - 0s 4ms/step - loss: 0.6481 - accuracy: 0.6590 - val_loss: 0.6483 - val_accuracy: 0.6715\n",
      "Epoch 42/100\n",
      "35/35 [==============================] - 0s 5ms/step - loss: 0.6552 - accuracy: 0.6535 - val_loss: 0.6478 - val_accuracy: 0.6788\n",
      "Epoch 43/100\n",
      "35/35 [==============================] - 0s 5ms/step - loss: 0.6509 - accuracy: 0.6644 - val_loss: 0.6472 - val_accuracy: 0.6861\n",
      "Epoch 44/100\n",
      "35/35 [==============================] - 0s 5ms/step - loss: 0.6415 - accuracy: 0.6885 - val_loss: 0.6466 - val_accuracy: 0.6861\n",
      "Epoch 45/100\n",
      "35/35 [==============================] - 0s 4ms/step - loss: 0.6515 - accuracy: 0.6823 - val_loss: 0.6460 - val_accuracy: 0.6898\n",
      "Epoch 46/100\n",
      "35/35 [==============================] - 0s 5ms/step - loss: 0.6389 - accuracy: 0.6957 - val_loss: 0.6454 - val_accuracy: 0.6898\n",
      "Epoch 47/100\n",
      "35/35 [==============================] - 0s 4ms/step - loss: 0.6345 - accuracy: 0.7187 - val_loss: 0.6448 - val_accuracy: 0.6898\n",
      "Epoch 48/100\n",
      "35/35 [==============================] - 0s 4ms/step - loss: 0.6543 - accuracy: 0.6663 - val_loss: 0.6443 - val_accuracy: 0.6898\n",
      "Epoch 49/100\n",
      "35/35 [==============================] - 0s 5ms/step - loss: 0.6483 - accuracy: 0.6726 - val_loss: 0.6437 - val_accuracy: 0.6971\n",
      "Epoch 50/100\n",
      "35/35 [==============================] - 0s 4ms/step - loss: 0.6465 - accuracy: 0.7050 - val_loss: 0.6431 - val_accuracy: 0.6971\n",
      "Epoch 51/100\n",
      "35/35 [==============================] - 0s 5ms/step - loss: 0.6412 - accuracy: 0.6932 - val_loss: 0.6426 - val_accuracy: 0.6971\n",
      "Epoch 52/100\n",
      "35/35 [==============================] - 0s 5ms/step - loss: 0.6398 - accuracy: 0.7052 - val_loss: 0.6420 - val_accuracy: 0.6971\n",
      "Epoch 53/100\n",
      "35/35 [==============================] - 0s 4ms/step - loss: 0.6536 - accuracy: 0.6774 - val_loss: 0.6414 - val_accuracy: 0.6971\n",
      "Epoch 54/100\n",
      "35/35 [==============================] - 0s 4ms/step - loss: 0.6450 - accuracy: 0.6968 - val_loss: 0.6409 - val_accuracy: 0.6971\n",
      "Epoch 55/100\n",
      "35/35 [==============================] - 0s 4ms/step - loss: 0.6425 - accuracy: 0.7066 - val_loss: 0.6403 - val_accuracy: 0.6971\n",
      "Epoch 56/100\n",
      "35/35 [==============================] - 0s 4ms/step - loss: 0.6297 - accuracy: 0.7174 - val_loss: 0.6398 - val_accuracy: 0.6971\n",
      "Epoch 57/100\n",
      "35/35 [==============================] - 0s 4ms/step - loss: 0.6383 - accuracy: 0.7050 - val_loss: 0.6393 - val_accuracy: 0.7007\n",
      "Epoch 58/100\n",
      "35/35 [==============================] - 0s 4ms/step - loss: 0.6440 - accuracy: 0.7030 - val_loss: 0.6387 - val_accuracy: 0.7080\n",
      "Epoch 59/100\n",
      "35/35 [==============================] - 0s 4ms/step - loss: 0.6439 - accuracy: 0.7082 - val_loss: 0.6382 - val_accuracy: 0.7080\n",
      "Epoch 60/100\n",
      "35/35 [==============================] - 0s 4ms/step - loss: 0.6327 - accuracy: 0.7188 - val_loss: 0.6376 - val_accuracy: 0.7080\n",
      "Epoch 61/100\n",
      "35/35 [==============================] - 0s 4ms/step - loss: 0.6404 - accuracy: 0.7168 - val_loss: 0.6371 - val_accuracy: 0.7117\n",
      "Epoch 62/100\n",
      "35/35 [==============================] - 0s 4ms/step - loss: 0.6386 - accuracy: 0.7078 - val_loss: 0.6365 - val_accuracy: 0.7153\n",
      "Epoch 63/100\n",
      "35/35 [==============================] - 0s 4ms/step - loss: 0.6446 - accuracy: 0.7070 - val_loss: 0.6360 - val_accuracy: 0.7153\n",
      "Epoch 64/100\n",
      "35/35 [==============================] - 0s 4ms/step - loss: 0.6378 - accuracy: 0.7124 - val_loss: 0.6355 - val_accuracy: 0.7153\n",
      "Epoch 65/100\n",
      "35/35 [==============================] - 0s 4ms/step - loss: 0.6435 - accuracy: 0.7127 - val_loss: 0.6349 - val_accuracy: 0.7190\n",
      "Epoch 66/100\n",
      "35/35 [==============================] - 0s 5ms/step - loss: 0.6343 - accuracy: 0.7361 - val_loss: 0.6344 - val_accuracy: 0.7226\n",
      "Epoch 67/100\n",
      "35/35 [==============================] - 0s 5ms/step - loss: 0.6424 - accuracy: 0.7196 - val_loss: 0.6338 - val_accuracy: 0.7263\n",
      "Epoch 68/100\n",
      "35/35 [==============================] - 0s 4ms/step - loss: 0.6430 - accuracy: 0.7154 - val_loss: 0.6333 - val_accuracy: 0.7299\n",
      "Epoch 69/100\n",
      "35/35 [==============================] - 0s 4ms/step - loss: 0.6312 - accuracy: 0.7366 - val_loss: 0.6328 - val_accuracy: 0.7299\n",
      "Epoch 70/100\n",
      "35/35 [==============================] - 0s 4ms/step - loss: 0.6341 - accuracy: 0.7463 - val_loss: 0.6323 - val_accuracy: 0.7299\n",
      "Epoch 71/100\n",
      "35/35 [==============================] - 0s 4ms/step - loss: 0.6324 - accuracy: 0.7497 - val_loss: 0.6317 - val_accuracy: 0.7299\n",
      "Epoch 72/100\n",
      "35/35 [==============================] - 0s 4ms/step - loss: 0.6359 - accuracy: 0.7201 - val_loss: 0.6312 - val_accuracy: 0.7336\n",
      "Epoch 73/100\n",
      "35/35 [==============================] - 0s 4ms/step - loss: 0.6370 - accuracy: 0.7344 - val_loss: 0.6307 - val_accuracy: 0.7336\n",
      "Epoch 74/100\n",
      "35/35 [==============================] - 0s 4ms/step - loss: 0.6360 - accuracy: 0.7160 - val_loss: 0.6302 - val_accuracy: 0.7372\n",
      "Epoch 75/100\n",
      "35/35 [==============================] - 0s 4ms/step - loss: 0.6363 - accuracy: 0.7557 - val_loss: 0.6296 - val_accuracy: 0.7372\n",
      "Epoch 76/100\n",
      "35/35 [==============================] - 0s 4ms/step - loss: 0.6283 - accuracy: 0.7479 - val_loss: 0.6291 - val_accuracy: 0.7372\n",
      "Epoch 77/100\n",
      "35/35 [==============================] - 0s 5ms/step - loss: 0.6288 - accuracy: 0.7323 - val_loss: 0.6286 - val_accuracy: 0.7372\n",
      "Epoch 78/100\n",
      "35/35 [==============================] - 0s 4ms/step - loss: 0.6369 - accuracy: 0.7225 - val_loss: 0.6281 - val_accuracy: 0.7409\n",
      "Epoch 79/100\n",
      "35/35 [==============================] - 0s 4ms/step - loss: 0.6261 - accuracy: 0.7423 - val_loss: 0.6276 - val_accuracy: 0.7409\n",
      "Epoch 80/100\n",
      "35/35 [==============================] - 0s 5ms/step - loss: 0.6244 - accuracy: 0.7531 - val_loss: 0.6270 - val_accuracy: 0.7409\n",
      "Epoch 81/100\n",
      "35/35 [==============================] - 0s 5ms/step - loss: 0.6288 - accuracy: 0.7376 - val_loss: 0.6265 - val_accuracy: 0.7409\n",
      "Epoch 82/100\n",
      "35/35 [==============================] - 0s 5ms/step - loss: 0.6277 - accuracy: 0.7233 - val_loss: 0.6260 - val_accuracy: 0.7409\n",
      "Epoch 83/100\n",
      "35/35 [==============================] - 0s 5ms/step - loss: 0.6283 - accuracy: 0.7530 - val_loss: 0.6255 - val_accuracy: 0.7445\n",
      "Epoch 84/100\n",
      "35/35 [==============================] - 0s 5ms/step - loss: 0.6319 - accuracy: 0.7153 - val_loss: 0.6250 - val_accuracy: 0.7445\n",
      "Epoch 85/100\n",
      "35/35 [==============================] - 0s 5ms/step - loss: 0.6307 - accuracy: 0.7400 - val_loss: 0.6244 - val_accuracy: 0.7445\n",
      "Epoch 86/100\n",
      "35/35 [==============================] - 0s 4ms/step - loss: 0.6274 - accuracy: 0.7363 - val_loss: 0.6239 - val_accuracy: 0.7445\n",
      "Epoch 87/100\n",
      "35/35 [==============================] - 0s 4ms/step - loss: 0.6342 - accuracy: 0.7265 - val_loss: 0.6234 - val_accuracy: 0.7445\n",
      "Epoch 88/100\n",
      "35/35 [==============================] - 0s 4ms/step - loss: 0.6328 - accuracy: 0.7340 - val_loss: 0.6229 - val_accuracy: 0.7445\n",
      "Epoch 89/100\n",
      "35/35 [==============================] - 0s 5ms/step - loss: 0.6238 - accuracy: 0.7553 - val_loss: 0.6224 - val_accuracy: 0.7482\n",
      "Epoch 90/100\n",
      "35/35 [==============================] - 0s 4ms/step - loss: 0.6266 - accuracy: 0.7569 - val_loss: 0.6219 - val_accuracy: 0.7445\n",
      "Epoch 91/100\n",
      "35/35 [==============================] - 0s 4ms/step - loss: 0.6262 - accuracy: 0.7619 - val_loss: 0.6214 - val_accuracy: 0.7445\n",
      "Epoch 92/100\n",
      "35/35 [==============================] - 0s 5ms/step - loss: 0.6250 - accuracy: 0.7421 - val_loss: 0.6209 - val_accuracy: 0.7445\n",
      "Epoch 93/100\n",
      "35/35 [==============================] - 0s 4ms/step - loss: 0.6260 - accuracy: 0.7482 - val_loss: 0.6204 - val_accuracy: 0.7445\n",
      "Epoch 94/100\n",
      "35/35 [==============================] - 0s 4ms/step - loss: 0.6248 - accuracy: 0.7355 - val_loss: 0.6199 - val_accuracy: 0.7482\n",
      "Epoch 95/100\n",
      "35/35 [==============================] - 0s 4ms/step - loss: 0.6233 - accuracy: 0.7574 - val_loss: 0.6194 - val_accuracy: 0.7482\n",
      "Epoch 96/100\n",
      "35/35 [==============================] - 0s 5ms/step - loss: 0.6218 - accuracy: 0.7681 - val_loss: 0.6189 - val_accuracy: 0.7482\n",
      "Epoch 97/100\n",
      "35/35 [==============================] - 0s 4ms/step - loss: 0.6140 - accuracy: 0.7643 - val_loss: 0.6184 - val_accuracy: 0.7482\n",
      "Epoch 98/100\n",
      "35/35 [==============================] - 0s 4ms/step - loss: 0.6158 - accuracy: 0.7887 - val_loss: 0.6179 - val_accuracy: 0.7482\n",
      "Epoch 99/100\n",
      "35/35 [==============================] - 0s 4ms/step - loss: 0.6237 - accuracy: 0.7646 - val_loss: 0.6174 - val_accuracy: 0.7518\n",
      "Epoch 100/100\n",
      "35/35 [==============================] - 0s 4ms/step - loss: 0.6165 - accuracy: 0.7593 - val_loss: 0.6169 - val_accuracy: 0.7518\n"
     ]
    }
   ],
   "source": [
    "model.compile(loss='binary_crossentropy', optimizer=opt, metrics=['accuracy'])\n",
    "history = model.fit(X_train,y_train,epochs=100,batch_size=24,validation_data=(X_valid,y_valid),verbose=1)"
   ]
  },
  {
   "cell_type": "code",
   "execution_count": 100,
   "id": "2255b63c-25b9-402d-8bb4-77c009e5295a",
   "metadata": {},
   "outputs": [
    {
     "data": {
      "image/png": "[encoded data removed]",
      "text/plain": [
       "<Figure size 1008x504 with 1 Axes>"
      ]
     },
     "metadata": {
      "needs_background": "light"
     },
     "output_type": "display_data"
    }
   ],
   "source": [
    "N=5\n",
    "fig,ax = plt.subplots(figsize=(14,7))\n",
    "acc_val = history.history['val_accuracy']\n",
    "acc_val = np.convolve(acc_val, np.ones(N)/N, mode='valid') # rolling mean of N\n",
    "acc_train = history.history['accuracy']\n",
    "acc_train = np.convolve(acc_train, np.ones(N)/N, mode='valid')\n",
    "ax.plot(acc_train,label='train')\n",
    "ax.plot(acc_val,label='valid')\n",
    "ax.legend()\n",
    "plt.show()"
   ]
  },
  {
   "cell_type": "markdown",
   "id": "6f9347f9-b510-4797-8286-d8112719eeee",
   "metadata": {},
   "source": [
    "### Keras tuner"
   ]
  },
  {
   "cell_type": "code",
   "execution_count": 164,
   "id": "420911c3-80b8-4efc-8c73-b34ce5797dc6",
   "metadata": {},
   "outputs": [],
   "source": [
    "def build_model(hp):\n",
    "    \n",
    "    lr_schedule = keras.optimizers.schedules.ExponentialDecay(\n",
    "    initial_learning_rate=1e-1,\n",
    "    decay_steps=10000,\n",
    "    decay_rate=0.9)\n",
    "\n",
    "    opt = keras.optimizers.Adam(learning_rate=lr_schedule)\n",
    "    \n",
    "    model = keras.Sequential()\n",
    "    model.add(keras.layers.Dense(\n",
    "      hp.Choice('units', [4,8, 16, 32]),\n",
    "      activation='relu',\n",
    "    input_shape=(10,)))\n",
    "    model.add(Dense(hp.Choice('units__', [16, 32]), activation='relu'))\n",
    "    model.add(Dense(1, activation='sigmoid'))\n",
    "    \n",
    "    \n",
    "    model.compile(loss='binary_crossentropy', optimizer=opt, metrics=['accuracy'])\n",
    "    \n",
    "    return model"
   ]
  },
  {
   "cell_type": "code",
   "execution_count": 165,
   "id": "63940693-1118-447e-bedd-580991f3a754",
   "metadata": {},
   "outputs": [],
   "source": [
    "tuner = kt.RandomSearch(\n",
    "    build_model,\n",
    "    objective='val_accuracy',\n",
    "    directory = '../models/tuner/',\n",
    "    project_name = 'housing_price',\n",
    "    max_trials=10)"
   ]
  },
  {
   "cell_type": "code",
   "execution_count": 166,
   "id": "ebc0d292-9c8e-4f8e-9dd8-026bbe683fb0",
   "metadata": {},
   "outputs": [
    {
     "name": "stdout",
     "output_type": "stream",
     "text": [
      "Trial 8 Complete [00h 00m 03s]\n",
      "val_accuracy: 0.8905109763145447\n",
      "\n",
      "Best val_accuracy So Far: 0.9087591171264648\n",
      "Total elapsed time: 00h 00m 24s\n",
      "INFO:tensorflow:Oracle triggered exit\n",
      "WARNING:tensorflow:Unresolved object in checkpoint: (root).optimizer.iter\n",
      "WARNING:tensorflow:Unresolved object in checkpoint: (root).optimizer.beta_1\n",
      "WARNING:tensorflow:Unresolved object in checkpoint: (root).optimizer.beta_2\n",
      "WARNING:tensorflow:Unresolved object in checkpoint: (root).optimizer.decay\n",
      "WARNING:tensorflow:A checkpoint was restored (e.g. tf.train.Checkpoint.restore or tf.keras.Model.load_weights) but not all checkpointed values were used. See above for specific issues. Use expect_partial() on the load status object, e.g. tf.train.Checkpoint.restore(...).expect_partial(), to silence these warnings, or use assert_consumed() to make the check explicit. See https://www.tensorflow.org/guide/checkpoint#loading_mechanics for details.\n"
     ]
    }
   ],
   "source": [
    "tuner.search(X_train, y_train, epochs=15, validation_data=(X_valid, y_valid))\n",
    "best_model = tuner.get_best_models()[0]"
   ]
  },
  {
   "cell_type": "code",
   "execution_count": 167,
   "id": "8e0ab0d1-2c36-4dca-a48e-5a8ffb072ebd",
   "metadata": {},
   "outputs": [
    {
     "name": "stdout",
     "output_type": "stream",
     "text": [
      "Model: \"sequential\"\n",
      "_________________________________________________________________\n",
      "Layer (type)                 Output Shape              Param #   \n",
      "=================================================================\n",
      "dense (Dense)                (None, 32)                352       \n",
      "_________________________________________________________________\n",
      "dense_1 (Dense)              (None, 16)                528       \n",
      "_________________________________________________________________\n",
      "dense_2 (Dense)              (None, 1)                 17        \n",
      "=================================================================\n",
      "Total params: 897\n",
      "Trainable params: 897\n",
      "Non-trainable params: 0\n",
      "_________________________________________________________________\n"
     ]
    }
   ],
   "source": [
    "best_model.summary()"
   ]
  },
  {
   "cell_type": "code",
   "execution_count": null,
   "id": "58603f2d-c216-4f8f-9d0b-d927aec953ba",
   "metadata": {},
   "outputs": [],
   "source": []
  }
 ],
 "metadata": {
  "kernelspec": {
   "display_name": "Python [conda env:ML_5]",
   "language": "python",
   "name": "conda-env-ML_5-py"
  },
  "language_info": {
   "codemirror_mode": {
    "name": "ipython",
    "version": 3
   },
   "file_extension": ".py",
   "mimetype": "text/x-python",
   "name": "python",
   "nbconvert_exporter": "python",
   "pygments_lexer": "ipython3",
   "version": "3.9.12"
  }
 },
 "nbformat": 4,
 "nbformat_minor": 5
}
