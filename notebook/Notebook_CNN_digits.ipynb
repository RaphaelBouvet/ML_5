{
 "cells": [
  {
   "cell_type": "markdown",
   "id": "943d28a2-2b95-4813-b51f-2833b0e165f8",
   "metadata": {},
   "source": [
    "# Imports"
   ]
  },
  {
   "cell_type": "markdown",
   "id": "ded75170-1e0d-4720-8bd9-0755ddc94a33",
   "metadata": {},
   "source": [
    "## Import gen"
   ]
  },
  {
   "cell_type": "code",
   "execution_count": 1,
   "id": "67f41c79-dcaf-4eb2-b9a9-77ebcf0bd96b",
   "metadata": {},
   "outputs": [
    {
     "name": "stderr",
     "output_type": "stream",
     "text": [
      "2022-06-16 11:39:23.658394: I tensorflow/stream_executor/platform/default/dso_loader.cc:49] Successfully opened dynamic library libcudart.so.10.1\n"
     ]
    }
   ],
   "source": [
    "import pandas as pd\n",
    "import os,sys\n",
    "import pickle\n",
    "import numpy as np\n",
    "import keras\n",
    "import tensorflow as tf\n",
    "import matplotlib.pyplot as plt\n",
    "import keras_tuner as kt\n",
    "from IPython.display import clear_output"
   ]
  },
  {
   "cell_type": "code",
   "execution_count": 2,
   "id": "f308cd30-e5f1-4181-970c-a9f1b27120e4",
   "metadata": {},
   "outputs": [
    {
     "name": "stderr",
     "output_type": "stream",
     "text": [
      "2022-06-16 11:39:26.842865: I tensorflow/compiler/jit/xla_cpu_device.cc:41] Not creating XLA devices, tf_xla_enable_xla_devices not set\n",
      "2022-06-16 11:39:26.844373: I tensorflow/stream_executor/platform/default/dso_loader.cc:49] Successfully opened dynamic library libcuda.so.1\n",
      "2022-06-16 11:39:26.896320: I tensorflow/core/common_runtime/gpu/gpu_device.cc:1720] Found device 0 with properties: \n",
      "pciBusID: 0000:61:00.0 name: NVIDIA GeForce GTX 1660 computeCapability: 7.5\n",
      "coreClock: 1.785GHz coreCount: 22 deviceMemorySize: 5.80GiB deviceMemoryBandwidth: 178.86GiB/s\n",
      "2022-06-16 11:39:26.896376: I tensorflow/stream_executor/platform/default/dso_loader.cc:49] Successfully opened dynamic library libcudart.so.10.1\n",
      "2022-06-16 11:39:26.900293: I tensorflow/stream_executor/platform/default/dso_loader.cc:49] Successfully opened dynamic library libcublas.so.10\n",
      "2022-06-16 11:39:26.900434: I tensorflow/stream_executor/platform/default/dso_loader.cc:49] Successfully opened dynamic library libcublasLt.so.10\n",
      "2022-06-16 11:39:26.903850: I tensorflow/stream_executor/platform/default/dso_loader.cc:49] Successfully opened dynamic library libcufft.so.10\n",
      "2022-06-16 11:39:26.904508: I tensorflow/stream_executor/platform/default/dso_loader.cc:49] Successfully opened dynamic library libcurand.so.10\n",
      "2022-06-16 11:39:26.908456: I tensorflow/stream_executor/platform/default/dso_loader.cc:49] Successfully opened dynamic library libcusolver.so.10\n",
      "2022-06-16 11:39:26.909958: I tensorflow/stream_executor/platform/default/dso_loader.cc:49] Successfully opened dynamic library libcusparse.so.10\n",
      "2022-06-16 11:39:26.915534: I tensorflow/stream_executor/platform/default/dso_loader.cc:49] Successfully opened dynamic library libcudnn.so.7\n",
      "2022-06-16 11:39:26.916148: I tensorflow/core/common_runtime/gpu/gpu_device.cc:1862] Adding visible gpu devices: 0\n"
     ]
    },
    {
     "data": {
      "text/plain": [
       "[PhysicalDevice(name='/physical_device:CPU:0', device_type='CPU'),\n",
       " PhysicalDevice(name='/physical_device:GPU:0', device_type='GPU')]"
      ]
     },
     "execution_count": 2,
     "metadata": {},
     "output_type": "execute_result"
    }
   ],
   "source": [
    "tf.config.list_physical_devices()"
   ]
  },
  {
   "cell_type": "code",
   "execution_count": 3,
   "id": "3f43e016-d602-43cb-aefd-c6e7b9c0371a",
   "metadata": {},
   "outputs": [],
   "source": [
    "physical_devices = tf.config.experimental.list_physical_devices('GPU')\n",
    "assert len(physical_devices) > 0, \"Not enough GPU hardware devices available\"\n",
    "config = tf.config.experimental.set_memory_growth(physical_devices[0], True)"
   ]
  },
  {
   "cell_type": "markdown",
   "id": "2c52ab0c-548e-4638-979e-353eb85dfa69",
   "metadata": {},
   "source": [
    "## Import Sklearn"
   ]
  },
  {
   "cell_type": "code",
   "execution_count": 4,
   "id": "521c983c-0a7b-4db7-8f3e-df7b5969ea38",
   "metadata": {},
   "outputs": [],
   "source": [
    "from sklearn.model_selection import train_test_split\n",
    "from sklearn.metrics import accuracy_score\n",
    "from sklearn.preprocessing import StandardScaler,OneHotEncoder\n",
    "from sklearn.datasets import fetch_openml"
   ]
  },
  {
   "cell_type": "markdown",
   "id": "990943d3-4826-40a8-8649-98e7363aebf4",
   "metadata": {},
   "source": [
    "## Import Keras"
   ]
  },
  {
   "cell_type": "code",
   "execution_count": 5,
   "id": "c61eefa5-55f6-4f42-962e-14c0703bf766",
   "metadata": {},
   "outputs": [],
   "source": [
    "from keras.utils.vis_utils import plot_model"
   ]
  },
  {
   "cell_type": "code",
   "execution_count": 35,
   "id": "6d96ac97-cf78-4338-a32b-6b334882d64b",
   "metadata": {},
   "outputs": [],
   "source": [
    "from keras.models import Sequential\n",
    "from keras.layers import Dense,Conv2D,MaxPool2D,Flatten"
   ]
  },
  {
   "cell_type": "markdown",
   "id": "1942d3fd-4f2d-47b3-abb0-66aa335cb0d5",
   "metadata": {},
   "source": [
    "## Import datasets"
   ]
  },
  {
   "cell_type": "markdown",
   "id": "527658eb-8c0a-4957-93f0-4248c75ece9b",
   "metadata": {},
   "source": [
    "Read from file or if file do not exist get from openml"
   ]
  },
  {
   "cell_type": "code",
   "execution_count": 7,
   "id": "f7826a44-cd73-4f7d-a56a-7e824a49beec",
   "metadata": {},
   "outputs": [],
   "source": [
    "path_to_file = '../data/digit_dataset.pkl'"
   ]
  },
  {
   "cell_type": "code",
   "execution_count": 8,
   "id": "a30fd814-ad08-4c1e-b018-aa20961fb8e9",
   "metadata": {},
   "outputs": [
    {
     "name": "stdout",
     "output_type": "stream",
     "text": [
      "Getting data set from local\n"
     ]
    }
   ],
   "source": [
    "if os.path.exists(path_to_file):\n",
    "    print('Getting data set from local')\n",
    "    with open(path_to_file, 'rb') as f:\n",
    "        minst = pickle.load(f)\n",
    "else:\n",
    "    print('Getting data set from openML')\n",
    "    minst = fetch_openml('mnist_784')\n",
    "    with open(path_to_file, 'wb') as f:\n",
    "        pickle.dump(minst, f)"
   ]
  },
  {
   "cell_type": "code",
   "execution_count": 9,
   "id": "d13758c2-0411-4499-8dd5-481ecfc5e74c",
   "metadata": {},
   "outputs": [
    {
     "data": {
      "text/plain": [
       "dict_keys(['data', 'target', 'frame', 'categories', 'feature_names', 'target_names', 'DESCR', 'details', 'url'])"
      ]
     },
     "execution_count": 9,
     "metadata": {},
     "output_type": "execute_result"
    }
   ],
   "source": [
    "minst.keys()"
   ]
  },
  {
   "cell_type": "code",
   "execution_count": 10,
   "id": "938686b6-09fa-4a41-9195-662dae86463a",
   "metadata": {},
   "outputs": [],
   "source": [
    "X,y = minst['data'],minst['target']"
   ]
  },
  {
   "cell_type": "markdown",
   "id": "cd2eae1b-fa4d-4fab-ab0b-57cc683104c3",
   "metadata": {},
   "source": [
    "## Encode y for multilabel"
   ]
  },
  {
   "cell_type": "code",
   "execution_count": 11,
   "id": "23c2bc91-b20d-4835-a0bb-ba85bf62109f",
   "metadata": {},
   "outputs": [],
   "source": [
    "onehot = OneHotEncoder(sparse=False)\n",
    "y_encoded = onehot.fit_transform(y.values.reshape(-1,1))"
   ]
  },
  {
   "cell_type": "markdown",
   "id": "1ca319e9-5aff-4cd7-b884-30764edb9bd9",
   "metadata": {
    "tags": []
   },
   "source": [
    "# Split train test"
   ]
  },
  {
   "cell_type": "code",
   "execution_count": 12,
   "id": "8646e199-82b1-4daa-83c0-1b54f3d7856d",
   "metadata": {},
   "outputs": [],
   "source": [
    "X_train,X_test,y_train,y_test = X[:60000],X[60000:],y_encoded[:60000],y_encoded[60000:]"
   ]
  },
  {
   "cell_type": "markdown",
   "id": "abf41896-5f6a-49db-bf90-f7adfd9b12c1",
   "metadata": {
    "tags": []
   },
   "source": [
    "# Standardisation "
   ]
  },
  {
   "cell_type": "code",
   "execution_count": 13,
   "id": "1f02a132-5089-43fe-a4ae-59ae0e879d30",
   "metadata": {},
   "outputs": [],
   "source": [
    "scaler = StandardScaler()\n",
    "\n",
    "X_train = scaler.fit_transform(X_train)\n",
    "X_test = scaler.transform(X_test)"
   ]
  },
  {
   "cell_type": "markdown",
   "id": "ca673d63-44f0-4332-9357-bae660077c84",
   "metadata": {},
   "source": [
    "# Visualisation des chiffres"
   ]
  },
  {
   "cell_type": "code",
   "execution_count": 14,
   "id": "04ef0084-d151-4ebb-b164-951be6ebce3c",
   "metadata": {},
   "outputs": [],
   "source": [
    "def show_image(dataset,indice):\n",
    "    values = dataset[indice]\n",
    "    img = values.reshape(28,28)\n",
    "    plt.imshow(img,cmap='binary')\n",
    "    plt.axis('off')\n",
    "    plt.show()"
   ]
  },
  {
   "cell_type": "code",
   "execution_count": 15,
   "id": "011d40c5-8c9d-4fff-b494-7467a9fd577f",
   "metadata": {},
   "outputs": [
    {
     "data": {
      "image/png": "[encoded data removed]",
      "text/plain": [
       "<Figure size 432x288 with 1 Axes>"
      ]
     },
     "metadata": {
      "needs_background": "light"
     },
     "output_type": "display_data"
    }
   ],
   "source": [
    "show_image(X_train,10)"
   ]
  },
  {
   "cell_type": "markdown",
   "id": "010844c1-5642-4e50-b6bf-fec91687af6f",
   "metadata": {},
   "source": [
    "# Test model neuronal 'simple' "
   ]
  },
  {
   "cell_type": "markdown",
   "id": "953745a6-7156-42cc-bb8f-85ef395040b4",
   "metadata": {},
   "source": [
    "- input => 784  \n",
    "- 2 hidden layers of 10-20 neurons\n",
    "- 1 output layer of with 10 neurons => one by class "
   ]
  },
  {
   "cell_type": "code",
   "execution_count": 16,
   "id": "dca95678-60e1-455c-b035-51d876f69c69",
   "metadata": {},
   "outputs": [
    {
     "name": "stderr",
     "output_type": "stream",
     "text": [
      "2022-06-16 11:39:29.389619: I tensorflow/core/platform/cpu_feature_guard.cc:142] This TensorFlow binary is optimized with oneAPI Deep Neural Network Library (oneDNN) to use the following CPU instructions in performance-critical operations:  SSE4.1 SSE4.2 AVX AVX2 AVX512F FMA\n",
      "To enable them in other operations, rebuild TensorFlow with the appropriate compiler flags.\n",
      "2022-06-16 11:39:29.390215: I tensorflow/compiler/jit/xla_gpu_device.cc:99] Not creating XLA devices, tf_xla_enable_xla_devices not set\n",
      "2022-06-16 11:39:29.390710: I tensorflow/core/common_runtime/gpu/gpu_device.cc:1720] Found device 0 with properties: \n",
      "pciBusID: 0000:61:00.0 name: NVIDIA GeForce GTX 1660 computeCapability: 7.5\n",
      "coreClock: 1.785GHz coreCount: 22 deviceMemorySize: 5.80GiB deviceMemoryBandwidth: 178.86GiB/s\n",
      "2022-06-16 11:39:29.390759: I tensorflow/stream_executor/platform/default/dso_loader.cc:49] Successfully opened dynamic library libcudart.so.10.1\n",
      "2022-06-16 11:39:29.390796: I tensorflow/stream_executor/platform/default/dso_loader.cc:49] Successfully opened dynamic library libcublas.so.10\n",
      "2022-06-16 11:39:29.390815: I tensorflow/stream_executor/platform/default/dso_loader.cc:49] Successfully opened dynamic library libcublasLt.so.10\n",
      "2022-06-16 11:39:29.390834: I tensorflow/stream_executor/platform/default/dso_loader.cc:49] Successfully opened dynamic library libcufft.so.10\n",
      "2022-06-16 11:39:29.390854: I tensorflow/stream_executor/platform/default/dso_loader.cc:49] Successfully opened dynamic library libcurand.so.10\n",
      "2022-06-16 11:39:29.390873: I tensorflow/stream_executor/platform/default/dso_loader.cc:49] Successfully opened dynamic library libcusolver.so.10\n",
      "2022-06-16 11:39:29.390891: I tensorflow/stream_executor/platform/default/dso_loader.cc:49] Successfully opened dynamic library libcusparse.so.10\n",
      "2022-06-16 11:39:29.390911: I tensorflow/stream_executor/platform/default/dso_loader.cc:49] Successfully opened dynamic library libcudnn.so.7\n",
      "2022-06-16 11:39:29.391367: I tensorflow/core/common_runtime/gpu/gpu_device.cc:1862] Adding visible gpu devices: 0\n",
      "2022-06-16 11:39:29.391416: I tensorflow/stream_executor/platform/default/dso_loader.cc:49] Successfully opened dynamic library libcudart.so.10.1\n",
      "2022-06-16 11:39:30.247441: I tensorflow/core/common_runtime/gpu/gpu_device.cc:1261] Device interconnect StreamExecutor with strength 1 edge matrix:\n",
      "2022-06-16 11:39:30.247478: I tensorflow/core/common_runtime/gpu/gpu_device.cc:1267]      0 \n",
      "2022-06-16 11:39:30.247489: I tensorflow/core/common_runtime/gpu/gpu_device.cc:1280] 0:   N \n",
      "2022-06-16 11:39:30.248417: I tensorflow/core/common_runtime/gpu/gpu_device.cc:1406] Created TensorFlow device (/job:localhost/replica:0/task:0/device:GPU:0 with 4113 MB memory) -> physical GPU (device: 0, name: NVIDIA GeForce GTX 1660, pci bus id: 0000:61:00.0, compute capability: 7.5)\n"
     ]
    }
   ],
   "source": [
    "simple_model = Sequential(\n",
    "    [\n",
    "        Dense(16,activation='relu'),\n",
    "        Dense(14,activation='relu'),\n",
    "        Dense(10,activation='softmax',name='output_layer'),\n",
    "    ]\n",
    ")"
   ]
  },
  {
   "cell_type": "code",
   "execution_count": 17,
   "id": "060663b5-a2aa-4ef8-988c-0f948b41d061",
   "metadata": {},
   "outputs": [],
   "source": [
    "simple_model.compile(loss='binary_crossentropy', optimizer='adam', metrics=['accuracy'])"
   ]
  },
  {
   "cell_type": "code",
   "execution_count": 18,
   "id": "f5c2d5aa-2a59-42f0-be8f-2a35a4291616",
   "metadata": {
    "scrolled": true,
    "tags": []
   },
   "outputs": [
    {
     "name": "stderr",
     "output_type": "stream",
     "text": [
      "2022-06-16 11:39:30.717181: I tensorflow/compiler/mlir/mlir_graph_optimization_pass.cc:116] None of the MLIR optimization passes are enabled (registered 2)\n",
      "2022-06-16 11:39:30.734593: I tensorflow/core/platform/profile_utils/cpu_utils.cc:112] CPU Frequency: 1700000000 Hz\n"
     ]
    },
    {
     "name": "stdout",
     "output_type": "stream",
     "text": [
      "Epoch 1/10\n"
     ]
    },
    {
     "name": "stderr",
     "output_type": "stream",
     "text": [
      "2022-06-16 11:39:31.308438: I tensorflow/stream_executor/platform/default/dso_loader.cc:49] Successfully opened dynamic library libcublas.so.10\n"
     ]
    },
    {
     "name": "stdout",
     "output_type": "stream",
     "text": [
      "436/436 [==============================] - 3s 4ms/step - loss: 0.3976 - accuracy: 0.4087 - val_loss: 0.0607 - val_accuracy: 0.9195\n",
      "Epoch 2/10\n",
      "436/436 [==============================] - 1s 3ms/step - loss: 0.0636 - accuracy: 0.9077 - val_loss: 0.0429 - val_accuracy: 0.9392\n",
      "Epoch 3/10\n",
      "436/436 [==============================] - 1s 3ms/step - loss: 0.0467 - accuracy: 0.9322 - val_loss: 0.0375 - val_accuracy: 0.9467\n",
      "Epoch 4/10\n",
      "436/436 [==============================] - 1s 3ms/step - loss: 0.0416 - accuracy: 0.9394 - val_loss: 0.0352 - val_accuracy: 0.9497\n",
      "Epoch 5/10\n",
      "436/436 [==============================] - 1s 3ms/step - loss: 0.0374 - accuracy: 0.9443 - val_loss: 0.0340 - val_accuracy: 0.9520\n",
      "Epoch 6/10\n",
      "436/436 [==============================] - 1s 3ms/step - loss: 0.0345 - accuracy: 0.9492 - val_loss: 0.0330 - val_accuracy: 0.9542\n",
      "Epoch 7/10\n",
      "436/436 [==============================] - 1s 3ms/step - loss: 0.0324 - accuracy: 0.9519 - val_loss: 0.0321 - val_accuracy: 0.9557\n",
      "Epoch 8/10\n",
      "436/436 [==============================] - 1s 3ms/step - loss: 0.0303 - accuracy: 0.9555 - val_loss: 0.0319 - val_accuracy: 0.9570\n",
      "Epoch 9/10\n",
      "436/436 [==============================] - 1s 3ms/step - loss: 0.0296 - accuracy: 0.9560 - val_loss: 0.0310 - val_accuracy: 0.9565\n",
      "Epoch 10/10\n",
      "436/436 [==============================] - 1s 3ms/step - loss: 0.0277 - accuracy: 0.9589 - val_loss: 0.0310 - val_accuracy: 0.9563\n"
     ]
    }
   ],
   "source": [
    "history = simple_model.fit(X_train,y_train,epochs=10,batch_size=124,verbose=1,validation_split=0.1)"
   ]
  },
  {
   "cell_type": "code",
   "execution_count": 19,
   "id": "031d1959-e572-47e1-af5a-74a3f18277d4",
   "metadata": {},
   "outputs": [
    {
     "data": {
      "image/png": "[encoded data removed]",
      "text/plain": [
       "<IPython.core.display.Image object>"
      ]
     },
     "execution_count": 19,
     "metadata": {},
     "output_type": "execute_result"
    }
   ],
   "source": [
    "plot_model(simple_model, to_file='../img/digits/simple_model.png', show_shapes=True)"
   ]
  },
  {
   "cell_type": "code",
   "execution_count": 20,
   "id": "723d86bd-a223-476c-848d-c26d1aa96bbe",
   "metadata": {},
   "outputs": [],
   "source": [
    "y_pred = simple_model.predict(X_test)"
   ]
  },
  {
   "cell_type": "code",
   "execution_count": 21,
   "id": "8181b7d5-e74a-4148-ac2b-557affb10fae",
   "metadata": {},
   "outputs": [
    {
     "name": "stdout",
     "output_type": "stream",
     "text": [
      "313/313 [==============================] - 1s 2ms/step - loss: 0.0353 - accuracy: 0.9486\n"
     ]
    }
   ],
   "source": [
    "_, test_acc = simple_model.evaluate(X_test, y_test)"
   ]
  },
  {
   "cell_type": "markdown",
   "id": "ac3786d3-d19f-4e29-811e-5b880ac76094",
   "metadata": {},
   "source": [
    "# CNN"
   ]
  },
  {
   "cell_type": "markdown",
   "id": "65bf46d4-8a29-4c21-b167-32ab474764c9",
   "metadata": {},
   "source": [
    "## data"
   ]
  },
  {
   "cell_type": "code",
   "execution_count": 32,
   "id": "5a1dca46-155c-4a0b-808f-56ed8c5840a8",
   "metadata": {},
   "outputs": [],
   "source": [
    "X_train,X_test,y_train,y_test = X[:60000],X[60000:],y_encoded[:60000],y_encoded[60000:]"
   ]
  },
  {
   "cell_type": "markdown",
   "id": "6963b430-4f69-4389-ae3f-a2e884c244db",
   "metadata": {},
   "source": [
    "## reshape to use the data as img"
   ]
  },
  {
   "cell_type": "code",
   "execution_count": 43,
   "id": "385f0cb9-d5fa-44a3-a7de-bbdd53a25f40",
   "metadata": {},
   "outputs": [],
   "source": [
    "X_train_img = X_train.values.reshape(len(X_train),28,28,1)/255\n",
    "X_test_img = X_test.values.reshape(len(X_test),28,28,1)/255"
   ]
  },
  {
   "cell_type": "code",
   "execution_count": 44,
   "id": "b716fe8f-56e3-4027-bc49-76732b91f7f5",
   "metadata": {},
   "outputs": [
    {
     "data": {
      "text/plain": [
       "(60000, 28, 28, 1)"
      ]
     },
     "execution_count": 44,
     "metadata": {},
     "output_type": "execute_result"
    }
   ],
   "source": [
    "X_train_img.shape"
   ]
  },
  {
   "cell_type": "markdown",
   "id": "071e7b8c-693a-4340-a3e1-41def1ac833b",
   "metadata": {},
   "source": [
    "## Model"
   ]
  },
  {
   "cell_type": "code",
   "execution_count": 45,
   "id": "2e27497e-5d32-465d-8f4a-283b8cda8f2e",
   "metadata": {},
   "outputs": [],
   "source": [
    "simple_cnn = Sequential(\n",
    "    [\n",
    "        Conv2D(filters=64, kernel_size=2, padding='same', activation='relu', input_shape=(28,28, 1)),\n",
    "        MaxPool2D(pool_size=2),\n",
    "        Flatten(),\n",
    "        Dense(10,activation='softmax',name='outputlayer'),\n",
    "    ]\n",
    ")"
   ]
  },
  {
   "cell_type": "code",
   "execution_count": 46,
   "id": "f767ef24-3e7c-4048-9db3-8b2f10dbcbd9",
   "metadata": {},
   "outputs": [],
   "source": [
    "simple_cnn.compile(loss='categorical_crossentropy', optimizer='adam', metrics=['accuracy'])"
   ]
  },
  {
   "cell_type": "code",
   "execution_count": 47,
   "id": "4314b44c-597e-452b-b094-855465eaf5d4",
   "metadata": {
    "scrolled": true,
    "tags": []
   },
   "outputs": [
    {
     "name": "stdout",
     "output_type": "stream",
     "text": [
      "Epoch 1/10\n"
     ]
    },
    {
     "name": "stderr",
     "output_type": "stream",
     "text": [
      "2022-06-16 11:47:55.821761: I tensorflow/stream_executor/platform/default/dso_loader.cc:49] Successfully opened dynamic library libcudnn.so.7\n",
      "2022-06-16 11:47:57.452388: W tensorflow/stream_executor/gpu/asm_compiler.cc:63] Running ptxas --version returned 256\n",
      "2022-06-16 11:47:57.565973: W tensorflow/stream_executor/gpu/redzone_allocator.cc:314] Internal: ptxas exited with non-zero error code 256, output: \n",
      "Relying on driver to perform ptx compilation. \n",
      "Modify $PATH to customize ptxas location.\n",
      "This message will be only logged once.\n"
     ]
    },
    {
     "name": "stdout",
     "output_type": "stream",
     "text": [
      "1080/1080 [==============================] - 8s 4ms/step - loss: 0.4978 - accuracy: 0.8608 - val_loss: 0.1186 - val_accuracy: 0.9680\n",
      "Epoch 2/10\n",
      "1080/1080 [==============================] - 4s 3ms/step - loss: 0.1218 - accuracy: 0.9668 - val_loss: 0.0825 - val_accuracy: 0.9783\n",
      "Epoch 3/10\n",
      "1080/1080 [==============================] - 4s 3ms/step - loss: 0.0842 - accuracy: 0.9760 - val_loss: 0.0659 - val_accuracy: 0.9832\n",
      "Epoch 4/10\n",
      "1080/1080 [==============================] - 4s 3ms/step - loss: 0.0676 - accuracy: 0.9811 - val_loss: 0.0675 - val_accuracy: 0.9810\n",
      "Epoch 5/10\n",
      "1080/1080 [==============================] - 4s 3ms/step - loss: 0.0575 - accuracy: 0.9837 - val_loss: 0.0609 - val_accuracy: 0.9830\n",
      "Epoch 6/10\n",
      "1080/1080 [==============================] - 4s 3ms/step - loss: 0.0489 - accuracy: 0.9854 - val_loss: 0.0621 - val_accuracy: 0.9843\n",
      "Epoch 7/10\n",
      "1080/1080 [==============================] - 4s 3ms/step - loss: 0.0440 - accuracy: 0.9862 - val_loss: 0.0614 - val_accuracy: 0.9823\n",
      "Epoch 8/10\n",
      "1080/1080 [==============================] - 4s 3ms/step - loss: 0.0388 - accuracy: 0.9884 - val_loss: 0.0647 - val_accuracy: 0.9827\n",
      "Epoch 9/10\n",
      "1080/1080 [==============================] - 4s 3ms/step - loss: 0.0350 - accuracy: 0.9897 - val_loss: 0.0688 - val_accuracy: 0.9823\n",
      "Epoch 10/10\n",
      "1080/1080 [==============================] - 4s 3ms/step - loss: 0.0307 - accuracy: 0.9911 - val_loss: 0.0639 - val_accuracy: 0.9818\n"
     ]
    },
    {
     "data": {
      "text/plain": [
       "<tensorflow.python.keras.callbacks.History at 0x7f4e0c47e250>"
      ]
     },
     "execution_count": 47,
     "metadata": {},
     "output_type": "execute_result"
    }
   ],
   "source": [
    "simple_cnn.fit(X_train_img, y_train, epochs=10,batch_size=50, validation_split=0.1)"
   ]
  },
  {
   "cell_type": "code",
   "execution_count": 48,
   "id": "e9a073d0-0221-4988-9948-5136440e1a5d",
   "metadata": {},
   "outputs": [
    {
     "data": {
      "image/png": "[encoded data removed]",
      "text/plain": [
       "<IPython.core.display.Image object>"
      ]
     },
     "execution_count": 48,
     "metadata": {},
     "output_type": "execute_result"
    }
   ],
   "source": [
    "plot_model(simple_cnn, to_file='../img/digits/simple_cnn_model.png', show_shapes=True)"
   ]
  },
  {
   "cell_type": "code",
   "execution_count": 49,
   "id": "24146d6f-621a-40a8-9226-b2716f8ffd5e",
   "metadata": {},
   "outputs": [
    {
     "name": "stdout",
     "output_type": "stream",
     "text": [
      "313/313 [==============================] - 3s 6ms/step - loss: 0.0678 - accuracy: 0.9796\n",
      "0.9796000123023987\n"
     ]
    }
   ],
   "source": [
    "_, test_acc = simple_cnn.evaluate(X_test_img, y_test)\n",
    "print(test_acc)"
   ]
  },
  {
   "cell_type": "code",
   "execution_count": null,
   "id": "edb42d94-4742-4831-b77e-56e60a09b368",
   "metadata": {},
   "outputs": [],
   "source": []
  }
 ],
 "metadata": {
  "kernelspec": {
   "display_name": "Python [conda env:ML_5]",
   "language": "python",
   "name": "conda-env-ML_5-py"
  },
  "language_info": {
   "codemirror_mode": {
    "name": "ipython",
    "version": 3
   },
   "file_extension": ".py",
   "mimetype": "text/x-python",
   "name": "python",
   "nbconvert_exporter": "python",
   "pygments_lexer": "ipython3",
   "version": "3.9.12"
  }
 },
 "nbformat": 4,
 "nbformat_minor": 5
}
